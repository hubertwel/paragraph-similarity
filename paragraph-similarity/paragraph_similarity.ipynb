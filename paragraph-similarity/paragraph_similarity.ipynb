{
  "nbformat": 4,
  "nbformat_minor": 0,
  "metadata": {
    "colab": {
      "name": "paragraph_similarity.ipynb",
      "provenance": [],
      "authorship_tag": "ABX9TyOVivNCRhNbiZRMWuYFyF2r",
      "include_colab_link": true
    },
    "kernelspec": {
      "name": "python3",
      "display_name": "Python 3"
    }
  },
  "cells": [
    {
      "cell_type": "markdown",
      "metadata": {
        "id": "view-in-github",
        "colab_type": "text"
      },
      "source": [
        "<a href=\"https://colab.research.google.com/github/hubertwel/paragraph-similarity/blob/main/paragraph-similarity/paragraph_similarity.ipynb\" target=\"_parent\"><img src=\"https://colab.research.google.com/assets/colab-badge.svg\" alt=\"Open In Colab\"/></a>"
      ]
    },
    {
      "cell_type": "code",
      "metadata": {
        "colab": {
          "base_uri": "https://localhost:8080/"
        },
        "id": "gJr_9dXGpJ05",
        "outputId": "3b23d892-a7a5-4fe0-e3e5-bc42c1d419e2"
      },
      "source": [
        "import numpy as np\n",
        "\n",
        "seconds_in_a_day = 24 * 60 * 60\n",
        "seconds_in_a_day\n",
        "\n",
        "print('seconds_in_a_day: ', seconds_in_a_day)"
      ],
      "execution_count": 3,
      "outputs": [
        {
          "output_type": "stream",
          "text": [
            "seconds_in_a_day:  86400\n"
          ],
          "name": "stdout"
        }
      ]
    }
  ]
}