{
  "nbformat": 4,
  "nbformat_minor": 0,
  "metadata": {
    "colab": {
      "name": "paragraph_similarity.ipynb",
      "provenance": [],
      "collapsed_sections": [],
      "authorship_tag": "ABX9TyPo/CtfnisOOoeAJaaeeQJk",
      "include_colab_link": true
    },
    "kernelspec": {
      "name": "python3",
      "display_name": "Python 3"
    }
  },
  "cells": [
    {
      "cell_type": "markdown",
      "metadata": {
        "id": "view-in-github",
        "colab_type": "text"
      },
      "source": [
        "<a href=\"https://colab.research.google.com/github/hubertwel/paragraph-similarity/blob/main/paragraph-similarity/paragraph_similarity.ipynb\" target=\"_parent\"><img src=\"https://colab.research.google.com/assets/colab-badge.svg\" alt=\"Open In Colab\"/></a>"
      ]
    },
    {
      "cell_type": "code",
      "metadata": {
        "colab": {
          "base_uri": "https://localhost:8080/"
        },
        "id": "gJr_9dXGpJ05",
        "outputId": "8276893f-87a9-4bc7-c007-ecf78ca2172a"
      },
      "source": [
        "import numpy as np\n",
        "\n",
        "import nltk\n",
        "nltk.download('punkt')\n",
        "from nltk.tokenize import word_tokenize\n",
        "from nltk.tokenize import RegexpTokenizer\n",
        "\n",
        "from gensim.models.doc2vec import Doc2Vec, TaggedDocument\n",
        "\n",
        "sentences = [\"I ate dinner.\", \n",
        "       \"We had a three-course meal.\", \n",
        "       \"Brad came to dinner with us.\",\n",
        "       \"He loves fish tacos.\",\n",
        "       \"In the end, we all felt like we ate too much.\",\n",
        "       \"We all agreed; it was a magnificent evening.\"]\n",
        "\n",
        "test_sentence = \"I had pizza and pasta.\"\n",
        "\n",
        "# Tokenization of each document\n",
        "sentence_tk = []\n",
        "sentences_tk = []\n",
        "tokenizer = RegexpTokenizer(r'\\w+')\n",
        "for s in sentences:\n",
        "    sentence_tk = tokenizer.tokenize(s.lower())\n",
        "    sentences_tk.append(sentence_tk)\n",
        "print('tokenized sentences: ', sentences_tk)\n",
        "print()\n",
        "tagged_data = [TaggedDocument(d, [i]) for i, d in enumerate(sentences_tk)]\n",
        "print('tagged data: ', tagged_data)\n",
        "print()\n",
        "\n",
        "# Train doc2vec model\n",
        "# vector_size: dimensionality of the feature vectors.\n",
        "# window: the maximum distance between the current and predicted word within a sentence.\n",
        "# min_count: ignores all words with total frequency lower than this.\n",
        "# epochs: preferred number of passes\n",
        "model = Doc2Vec(tagged_data, vector_size = 20, window = 2, min_count = 1, epochs = 100)\n",
        "\n",
        "## Print model vocabulary\n",
        "print('model vocabulary: ', model.wv.vocab)\n",
        "\n",
        "test_sentence_tk = tokenizer.tokenize(test_sentence.lower())\n",
        "print('test_sentence_tk: ', test_sentence_tk)\n",
        "\n",
        "# Find the top 5 most similar sentences from training data\n",
        "# positive: list of sentences that contribute positively\n",
        "test_sent_vector = model.infer_vector(test_sentence_tk)\n",
        "documents_vectors = model.docvecs.most_similar(positive = [test_sent_vector])\n",
        "print('documents_vectors: ', documents_vectors)\n",
        "print()"
      ],
      "execution_count": 13,
      "outputs": [
        {
          "output_type": "stream",
          "text": [
            "[nltk_data] Downloading package punkt to /root/nltk_data...\n",
            "[nltk_data]   Package punkt is already up-to-date!\n",
            "tokenized sentences:  [['i', 'ate', 'dinner'], ['we', 'had', 'a', 'three', 'course', 'meal'], ['brad', 'came', 'to', 'dinner', 'with', 'us'], ['he', 'loves', 'fish', 'tacos'], ['in', 'the', 'end', 'we', 'all', 'felt', 'like', 'we', 'ate', 'too', 'much'], ['we', 'all', 'agreed', 'it', 'was', 'a', 'magnificent', 'evening']]\n",
            "\n",
            "tagged data:  [TaggedDocument(words=['i', 'ate', 'dinner'], tags=[0]), TaggedDocument(words=['we', 'had', 'a', 'three', 'course', 'meal'], tags=[1]), TaggedDocument(words=['brad', 'came', 'to', 'dinner', 'with', 'us'], tags=[2]), TaggedDocument(words=['he', 'loves', 'fish', 'tacos'], tags=[3]), TaggedDocument(words=['in', 'the', 'end', 'we', 'all', 'felt', 'like', 'we', 'ate', 'too', 'much'], tags=[4]), TaggedDocument(words=['we', 'all', 'agreed', 'it', 'was', 'a', 'magnificent', 'evening'], tags=[5])]\n",
            "\n",
            "model vocabulary:  {'i': <gensim.models.keyedvectors.Vocab object at 0x7fc447cbf4a8>, 'ate': <gensim.models.keyedvectors.Vocab object at 0x7fc447ca0400>, 'dinner': <gensim.models.keyedvectors.Vocab object at 0x7fc447ca0e80>, 'we': <gensim.models.keyedvectors.Vocab object at 0x7fc447ca0f98>, 'had': <gensim.models.keyedvectors.Vocab object at 0x7fc447ca08d0>, 'a': <gensim.models.keyedvectors.Vocab object at 0x7fc447ca0908>, 'three': <gensim.models.keyedvectors.Vocab object at 0x7fc447ca0be0>, 'course': <gensim.models.keyedvectors.Vocab object at 0x7fc447ca0ba8>, 'meal': <gensim.models.keyedvectors.Vocab object at 0x7fc447ca0b38>, 'brad': <gensim.models.keyedvectors.Vocab object at 0x7fc447ca09e8>, 'came': <gensim.models.keyedvectors.Vocab object at 0x7fc447ca0d68>, 'to': <gensim.models.keyedvectors.Vocab object at 0x7fc447ca0828>, 'with': <gensim.models.keyedvectors.Vocab object at 0x7fc447ca09b0>, 'us': <gensim.models.keyedvectors.Vocab object at 0x7fc447ca0978>, 'he': <gensim.models.keyedvectors.Vocab object at 0x7fc447ca0940>, 'loves': <gensim.models.keyedvectors.Vocab object at 0x7fc447ca0b00>, 'fish': <gensim.models.keyedvectors.Vocab object at 0x7fc447ca0a90>, 'tacos': <gensim.models.keyedvectors.Vocab object at 0x7fc447ca0a58>, 'in': <gensim.models.keyedvectors.Vocab object at 0x7fc447ca0a20>, 'the': <gensim.models.keyedvectors.Vocab object at 0x7fc447ca0860>, 'end': <gensim.models.keyedvectors.Vocab object at 0x7fc447ca0ac8>, 'all': <gensim.models.keyedvectors.Vocab object at 0x7fc447ca07f0>, 'felt': <gensim.models.keyedvectors.Vocab object at 0x7fc447ca0b70>, 'like': <gensim.models.keyedvectors.Vocab object at 0x7fc447ca07b8>, 'too': <gensim.models.keyedvectors.Vocab object at 0x7fc447ca06d8>, 'much': <gensim.models.keyedvectors.Vocab object at 0x7fc447ca06a0>, 'agreed': <gensim.models.keyedvectors.Vocab object at 0x7fc447ca04a8>, 'it': <gensim.models.keyedvectors.Vocab object at 0x7fc447ca05f8>, 'was': <gensim.models.keyedvectors.Vocab object at 0x7fc447ca0470>, 'magnificent': <gensim.models.keyedvectors.Vocab object at 0x7fc447ca0550>, 'evening': <gensim.models.keyedvectors.Vocab object at 0x7fc447ca0438>}\n",
            "test_sentence_tk:  ['i', 'had', 'pizza', 'and', 'pasta']\n",
            "documents_vectors:  [(5, 0.6093558669090271), (2, 0.46177756786346436), (4, 0.24230214953422546), (0, 0.146633118391037), (3, 0.023061757907271385), (1, -0.011175118386745453)]\n",
            "\n"
          ],
          "name": "stdout"
        }
      ]
    },
    {
      "cell_type": "code",
      "metadata": {
        "colab": {
          "base_uri": "https://localhost:8080/"
        },
        "id": "7uyNVk1yAbYX",
        "outputId": "f556f1ec-6ad9-485f-e410-0a0a4613debd"
      },
      "source": [
        "pip install --upgrade gensim"
      ],
      "execution_count": 6,
      "outputs": [
        {
          "output_type": "stream",
          "text": [
            "Collecting gensim\n",
            "\u001b[?25l  Downloading https://files.pythonhosted.org/packages/2b/e0/fa6326251692056dc880a64eb22117e03269906ba55a6864864d24ec8b4e/gensim-3.8.3-cp36-cp36m-manylinux1_x86_64.whl (24.2MB)\n",
            "\u001b[K     |████████████████████████████████| 24.2MB 163kB/s \n",
            "\u001b[?25hRequirement already satisfied, skipping upgrade: smart-open>=1.8.1 in /usr/local/lib/python3.6/dist-packages (from gensim) (4.1.2)\n",
            "Requirement already satisfied, skipping upgrade: numpy>=1.11.3 in /usr/local/lib/python3.6/dist-packages (from gensim) (1.19.5)\n",
            "Requirement already satisfied, skipping upgrade: scipy>=0.18.1 in /usr/local/lib/python3.6/dist-packages (from gensim) (1.4.1)\n",
            "Requirement already satisfied, skipping upgrade: six>=1.5.0 in /usr/local/lib/python3.6/dist-packages (from gensim) (1.15.0)\n",
            "Installing collected packages: gensim\n",
            "  Found existing installation: gensim 3.6.0\n",
            "    Uninstalling gensim-3.6.0:\n",
            "      Successfully uninstalled gensim-3.6.0\n",
            "Successfully installed gensim-3.8.3\n"
          ],
          "name": "stdout"
        }
      ]
    }
  ]
}