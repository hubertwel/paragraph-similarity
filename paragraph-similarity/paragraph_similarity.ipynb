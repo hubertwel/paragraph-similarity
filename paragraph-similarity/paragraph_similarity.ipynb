{
  "nbformat": 4,
  "nbformat_minor": 0,
  "metadata": {
    "colab": {
      "name": "paragraph_similarity.ipynb",
      "provenance": [],
      "collapsed_sections": [],
      "mount_file_id": "1Cpzo7rPDVpGRiYAGuvjvEmJGO9IcQELh",
      "authorship_tag": "ABX9TyMPezuR3nQjxIlmk6tuwu6G",
      "include_colab_link": true
    },
    "kernelspec": {
      "display_name": "Python 3",
      "name": "python3"
    }
  },
  "cells": [
    {
      "cell_type": "markdown",
      "metadata": {
        "id": "view-in-github",
        "colab_type": "text"
      },
      "source": [
        "<a href=\"https://colab.research.google.com/github/hubertwel/paragraph-similarity/blob/main/paragraph-similarity/paragraph_similarity.ipynb\" target=\"_parent\"><img src=\"https://colab.research.google.com/assets/colab-badge.svg\" alt=\"Open In Colab\"/></a>"
      ]
    },
    {
      "cell_type": "code",
      "metadata": {
        "colab": {
          "base_uri": "https://localhost:8080/"
        },
        "id": "gJr_9dXGpJ05",
        "outputId": "83adec97-be7c-450d-e13d-b34860468b84"
      },
      "source": [
        "# UNDER CONSTRUCTION\n",
        "from gensim.models.doc2vec import Doc2Vec, TaggedDocument\n",
        "from gensim.corpora import Dictionary\n",
        "from gensim.parsing.preprocessing import preprocess_string\n",
        "from gensim.parsing.preprocessing import strip_tags, strip_multiple_whitespaces\n",
        "from gensim.parsing.preprocessing import remove_stopwords, strip_short\n",
        "from gensim.parsing.preprocessing import strip_non_alphanum, split_alphanum\n",
        "from gensim.parsing.preprocessing import strip_punctuation\n",
        "from gensim.utils import simple_preprocess\n",
        "from gensim.utils import RULE_KEEP, RULE_DISCARD, RULE_DEFAULT\n",
        "from gensim.test.utils import get_tmpfile\n",
        "from sklearn.linear_model import LogisticRegression\n",
        "from sklearn.model_selection import KFold, cross_val_score\n",
        "from sklearn import linear_model\n",
        "from sklearn.metrics import accuracy_score\n",
        "from nltk.corpus import stopwords  \n",
        "from nltk.tokenize import word_tokenize\n",
        "import numpy as np\n",
        "import os\n",
        "import smart_open\n",
        "import csv\n",
        "import collections\n",
        "import random\n",
        "import re\n",
        "import optuna\n",
        "\n",
        "def read_corpus(fname, tokens_only=False):\n",
        "    with smart_open.open(fname, encoding=\"iso-8859-1\") as f:\n",
        "        csv_reader = csv.DictReader(f, quoting=csv.QUOTE_ALL)\n",
        "        CUSTOM_FILTERS = [lambda x: x.lower(), strip_tags, strip_multiple_whitespaces]\n",
        "        for i, row in enumerate(csv_reader):\n",
        "          line = row['x']\n",
        "          line = remove_urls(line)\n",
        "          line_list = preprocess_string(line, CUSTOM_FILTERS)\n",
        "          line = \" \".join(line_list)\n",
        "          tokens = simple_preprocess(line)\n",
        "          if tokens_only:\n",
        "            yield tokens\n",
        "          else:\n",
        "            # For training data, add tags\n",
        "            yield TaggedDocument(tokens, [i])\n",
        "\n",
        "def remove_urls(text):\n",
        "  text = re.sub(r'https?:\\/\\/.*[\\r\\n]*', ' ', text, flags=re.MULTILINE)\n",
        "  return text\n",
        "\n",
        "def trim_rule(word, count, min_count):\n",
        "    stop_words = set(stopwords.words('english')) \n",
        "    # This rule is only used to prune vocabulary during the current method call,\n",
        "    # so that documents can be printed with stopwords and with words of any length\n",
        "    if ((word in stop_words) or (len(word) < 3)):\n",
        "        return utils.RULE_DISCARD  # throw out\n",
        "    else:\n",
        "        return utils.RULE_DEFAULT  # apply default rule, i.e. min_count\n",
        "\n",
        "# Define an objective function to be maximized\n",
        "def objective(trial):\n",
        "  # Optimize hyperparameters:\n",
        "  classifier_name = trial.suggest_categorical(\"classifier\", [\"LogReg\"])\n",
        "  if classifier_name == 'LogReg':\n",
        "    logreg_c = trial.suggest_float(\"logreg_c\", 1e-10, 1e10, log=True)\n",
        "    clf = linear_model.LogisticRegression(C=logreg_c)\n",
        "  # Scoring method:\n",
        "    k_fold = KFold(n_splits=10, shuffle=True, random_state=0)\n",
        "    score = cross_val_score(clf, X_train, y_train, cv=k_fold, n_jobs=-1, scoring='accuracy')\n",
        "    accuracy = score.mean()\n",
        "    return accuracy\n",
        "\n",
        "def main():    \n",
        "  global X_train, y_train\n",
        "\n",
        "  # Set file names for train and test data\n",
        "  test_data_dir = os.path.join('/content/drive/MyDrive/Colab Notebooks/data/', 'gouvfr', 'CorpusRandomTwitter')\n",
        "  print(\"test_data_dir: %s\" % test_data_dir)\n",
        "  train_file = os.path.join(test_data_dir, 'randomtweets3.txt')\n",
        "  test_file = os.path.join(test_data_dir, 'randomtweets4.txt')\n",
        "\n",
        "  train_corpus = list(read_corpus(train_file, tokens_only=True))\n",
        "  train_corpus_tagged = list(read_corpus(train_file))\n",
        "  test_corpus = list(read_corpus(test_file, tokens_only=True))\n",
        "\n",
        "  print('train_corpus (the beginning): ', train_corpus[:2])\n",
        "  print('train_corpus length %d' % len(train_corpus))\n",
        "  print('train_corpus_tagged (the beginning): ', train_corpus_tagged[:2])\n",
        "  print('test_corpus (the beginning): ', test_corpus[:2])\n",
        "  print('test_corpus length %d' %len(test_corpus))\n",
        "  print()\n",
        "\n",
        "  # Build the model and its vocabulary\n",
        "  model = Doc2Vec(dm=0, vector_size=80, min_count=3, epochs=50, hs=1, dbow_words=1, trim_rule=trim_rule)\n",
        "  model.build_vocab(train_corpus_tagged)\n",
        "\n",
        "  # Train the model on the train corpus\n",
        "  model.train(train_corpus_tagged, total_examples=model.corpus_count, epochs=model.epochs)\n",
        "  print()\n",
        "\n",
        "  # Assess the model on the train corpus\n",
        "  ranks = []\n",
        "  first_ranks = []\n",
        "  second_ranks = []\n",
        "  inferred_vectors = []\n",
        "  for doc_id in range(len(train_corpus_tagged)):\n",
        "    inferred_vector = model.infer_vector(train_corpus_tagged[doc_id].words)\n",
        "    sims = model.dv.most_similar([inferred_vector], topn=len(model.dv))\n",
        "    # sanity check (self-similarity)\n",
        "    rank = [docid for docid, sim in sims].index(doc_id)\n",
        "    ranks.append(rank)\n",
        "    first_ranks.append(sims[0][0])\n",
        "    inferred_vectors.append(inferred_vector)\n",
        "        \n",
        "  print('sims: ', sims[:3])\n",
        "  print('ranks: ', ranks)\n",
        "  counter = collections.Counter(ranks)\n",
        "  print(counter)\n",
        "  print()\n",
        "\n",
        "  # Test the model with one random document\n",
        "  # Pick a random document from the test corpus and infer a vector from the model\n",
        "  doc_id = random.randint(0, len(test_corpus) - 1)\n",
        "  inferred_vector = model.infer_vector(test_corpus[doc_id])\n",
        "  sims = model.dv.most_similar([inferred_vector], topn=len(model.dv))\n",
        "  print('RANDOM TEST DOCUMENT ({}): «{}»\\n'.format(doc_id, ' '.join(test_corpus[doc_id])))\n",
        "\n",
        "  # Compare and print the most/second-most/third-most/median/least similar documents from the train corpus\n",
        "  print(u'SIMILAR/DISSIMILAR DOCS PER MODEL %s:\\n' % model)\n",
        "  for label, index in [('MOST', 0), ('SECOND-MOST', 1), ('THIRD-MOST', 2), ('MEDIAN', len(sims)//2), ('LEAST', len(sims) - 1)]:\n",
        "    print(u'%s %s: «%s»\\n' % (label, sims[index], ' '.join(train_corpus_tagged[sims[index][0]].words)))\n",
        "\n",
        "  # Save the model\n",
        "  filename = get_tmpfile(\"parsim_doc2vec_model\")\n",
        "  model.save(filename)\n",
        "\n",
        "  # Assess the model on the independent data set (test corpus)\n",
        "  ranks_test = []\n",
        "  first_ranks_test = []\n",
        "  inferred_vectors_test = []\n",
        "  for doc_id in range(len(test_corpus)):\n",
        "    inferred_vector_test = model.infer_vector(test_corpus[doc_id])\n",
        "    sims_test = model.dv.most_similar([inferred_vector_test], topn=len(model.dv))\n",
        "    first_ranks_test.append(sims_test[0][0])\n",
        "    inferred_vectors_test.append(inferred_vector_test)\n",
        "\n",
        "  print('first_ranks_test: ', first_ranks_test)\n",
        "\n",
        "  # Prepare vectors for cross validatiom\n",
        "  tags_array_train = np.array(first_ranks)\n",
        "  vectors_2Darray_train = np.array(inferred_vectors)\n",
        "  tags_array_test = np.array(first_ranks_test)\n",
        "  vectors_2Darray_test = np.array(inferred_vectors_test)\n",
        "  y_train, X_train = tags_array_train, vectors_2Darray_train\n",
        "  y_test, X_test = tags_array_test, vectors_2Darray_test\n",
        "\n",
        "  # Create Optuna study\n",
        "  study = optuna.create_study(direction=\"maximize\")\n",
        "  study.optimize(objective, n_trials=20)\n",
        "  \n",
        "  # Cross validation\n",
        "  clf = LogisticRegression(solver='liblinear', max_iter=300, class_weight='balanced', multi_class='auto')\n",
        "  k_fold = KFold(n_splits=10, shuffle=True, random_state=0)\n",
        "  score = cross_val_score(clf, X_train, y_train, cv=k_fold, n_jobs=-1, scoring='accuracy')\n",
        "  print('score: ', score)\n",
        "  print('Validation accuracy: {}'.format(round(np.mean(score)*100, 3)))\n",
        "  clf.fit(X_train, y_train)\n",
        "  y_pred = clf.predict(X_test)\n",
        "  print(\"Test accuracy: {:.3f}\".format(accuracy_score(y_test, y_pred)))\n",
        "\n",
        "main()"
      ],
      "execution_count": 1,
      "outputs": [
        {
          "output_type": "stream",
          "text": [
            "test_data_dir: /content/drive/MyDrive/Colab Notebooks/data/gouvfr/CorpusRandomTwitter\n",
            "train_corpus (the beginning):  [['rt', 'americanidol', 'watch', 'as', 'ddlovato', 'gives', 'an', 'amazing', 'performance', 'of', 'her', 'single', 'stonecold', 'demionidol'], ['rt', 'dipti_varun', 'varun', 'dhawan', 'junaid', 'is', 'rookie', 'cop', 'and', 'heâ', 'kind', 'of', 'discovering', 'himself', 'as', 'the', 'movie', 'goes', 'on', 'varun_dvn', 'dishoom']]\n",
            "train_corpus length 1000\n",
            "train_corpus_tagged (the beginning):  [TaggedDocument(words=['rt', 'americanidol', 'watch', 'as', 'ddlovato', 'gives', 'an', 'amazing', 'performance', 'of', 'her', 'single', 'stonecold', 'demionidol'], tags=[0]), TaggedDocument(words=['rt', 'dipti_varun', 'varun', 'dhawan', 'junaid', 'is', 'rookie', 'cop', 'and', 'heâ', 'kind', 'of', 'discovering', 'himself', 'as', 'the', 'movie', 'goes', 'on', 'varun_dvn', 'dishoom'], tags=[1])]\n",
            "test_corpus (the beginning):  [['live', 'morning', 'news', 'weather', 'and', 'traffic', 'updates', 'fromâ', 'wdsu'], ['when', 'catch', 'fire', 'and', 'watch', 'over', 'you', 'like', 'the', 'sun']]\n",
            "test_corpus length 1000\n",
            "\n",
            "\n",
            "sims:  [(677, 0.9649873971939087), (807, 0.9630318284034729), (999, 0.9564954042434692)]\n",
            "ranks:  [1, 0, 0, 0, 0, 0, 0, 0, 0, 0, 0, 0, 0, 0, 0, 0, 0, 0, 22, 0, 0, 0, 0, 0, 0, 0, 0, 0, 0, 0, 0, 0, 0, 0, 0, 0, 0, 0, 0, 0, 0, 0, 1, 0, 0, 0, 0, 0, 0, 0, 0, 0, 0, 0, 0, 0, 0, 1, 0, 9, 0, 0, 0, 0, 0, 0, 1, 0, 0, 0, 0, 0, 0, 0, 0, 0, 0, 0, 0, 0, 0, 0, 0, 0, 0, 0, 0, 0, 4, 0, 0, 0, 0, 0, 0, 0, 0, 0, 0, 0, 0, 5, 0, 0, 0, 0, 0, 0, 0, 0, 0, 0, 0, 0, 0, 0, 0, 0, 1, 0, 0, 0, 0, 0, 0, 0, 0, 0, 0, 0, 1, 0, 0, 0, 0, 0, 9, 0, 0, 1, 0, 0, 0, 0, 0, 0, 0, 0, 0, 30, 0, 1, 1, 0, 0, 0, 0, 0, 0, 0, 0, 0, 0, 0, 0, 0, 3, 0, 0, 0, 0, 0, 0, 0, 0, 22, 0, 0, 0, 15, 0, 0, 0, 0, 0, 1, 0, 0, 0, 0, 0, 0, 0, 0, 0, 0, 0, 0, 16, 0, 0, 0, 0, 0, 0, 0, 0, 0, 0, 0, 0, 0, 0, 0, 0, 0, 1, 0, 0, 0, 0, 0, 0, 0, 22, 0, 0, 5, 0, 2, 0, 0, 0, 0, 0, 0, 0, 0, 0, 0, 0, 0, 0, 0, 0, 0, 0, 0, 0, 0, 0, 0, 0, 0, 1, 9, 0, 0, 0, 0, 0, 0, 0, 0, 12, 0, 0, 0, 0, 0, 0, 0, 0, 0, 0, 0, 0, 0, 0, 0, 0, 0, 0, 0, 0, 0, 0, 0, 0, 0, 0, 0, 0, 0, 0, 0, 0, 0, 0, 1, 0, 14, 0, 0, 0, 0, 5, 0, 0, 0, 9, 0, 0, 0, 0, 0, 0, 7, 0, 0, 0, 0, 0, 0, 0, 0, 0, 0, 0, 24, 0, 0, 0, 0, 0, 0, 0, 0, 26, 0, 0, 0, 0, 0, 0, 0, 27, 0, 0, 0, 10, 0, 0, 0, 0, 0, 20, 0, 0, 7, 0, 0, 0, 29, 0, 0, 0, 1, 0, 0, 0, 0, 0, 0, 0, 0, 8, 3, 0, 0, 0, 0, 0, 0, 1, 0, 0, 0, 0, 0, 0, 0, 0, 0, 0, 15, 0, 0, 0, 0, 0, 0, 17, 0, 0, 0, 0, 0, 11, 2, 24, 0, 0, 0, 0, 0, 0, 0, 0, 0, 0, 0, 0, 0, 0, 0, 0, 0, 0, 0, 0, 0, 15, 17, 0, 0, 0, 0, 0, 0, 18, 0, 0, 0, 2, 0, 0, 10, 0, 0, 0, 28, 0, 0, 0, 0, 0, 1, 0, 0, 0, 0, 0, 0, 0, 21, 0, 0, 0, 2, 0, 0, 0, 0, 1, 0, 0, 0, 33, 0, 1, 0, 0, 0, 16, 0, 0, 0, 0, 30, 0, 0, 0, 0, 1, 20, 0, 33, 4, 0, 0, 0, 0, 0, 0, 0, 0, 0, 0, 0, 0, 0, 0, 0, 0, 0, 1, 0, 0, 0, 0, 32, 0, 0, 1, 0, 0, 0, 18, 0, 1, 0, 0, 0, 0, 0, 3, 26, 0, 0, 0, 0, 1, 0, 13, 0, 0, 0, 0, 0, 0, 0, 0, 0, 0, 0, 0, 0, 0, 0, 5, 0, 0, 0, 0, 0, 0, 0, 0, 0, 0, 0, 2, 0, 0, 0, 0, 0, 0, 0, 0, 0, 0, 0, 21, 22, 0, 0, 0, 0, 0, 0, 0, 0, 0, 0, 0, 0, 0, 0, 0, 0, 0, 0, 0, 1, 0, 0, 0, 0, 0, 0, 0, 2, 0, 0, 0, 0, 0, 0, 0, 0, 0, 0, 2, 0, 0, 0, 0, 0, 0, 0, 0, 0, 0, 1, 0, 0, 0, 0, 1, 0, 0, 0, 0, 1, 0, 0, 1, 0, 0, 0, 0, 0, 0, 0, 0, 0, 0, 0, 0, 0, 0, 0, 1, 0, 0, 0, 7, 0, 0, 0, 0, 0, 0, 0, 0, 1, 0, 0, 0, 0, 0, 0, 0, 0, 0, 0, 0, 0, 0, 0, 0, 0, 0, 0, 0, 0, 0, 0, 0, 0, 1, 0, 0, 1, 9, 0, 0, 0, 0, 0, 0, 0, 0, 0, 0, 0, 0, 0, 1, 0, 0, 0, 0, 0, 0, 0, 0, 0, 0, 0, 0, 0, 0, 0, 0, 1, 0, 0, 0, 0, 0, 0, 0, 0, 7, 0, 0, 0, 0, 0, 0, 0, 0, 0, 0, 0, 0, 0, 0, 0, 0, 0, 0, 0, 0, 0, 0, 0, 0, 0, 0, 0, 0, 0, 0, 9, 0, 0, 0, 0, 0, 0, 0, 0, 0, 0, 0, 0, 0, 0, 0, 0, 0, 0, 1, 1, 0, 0, 1, 0, 0, 0, 0, 0, 0, 0, 0, 0, 0, 0, 0, 1, 0, 0, 0, 0, 0, 0, 0, 1, 0, 0, 0, 0, 0, 0, 0, 0, 0, 0, 0, 0, 0, 0, 0, 0, 1, 0, 0, 0, 0, 0, 0, 0, 1, 0, 0, 0, 0, 0, 0, 0, 0, 0, 0, 0, 8, 0, 0, 0, 0, 0, 1, 0, 0, 0, 0, 0, 0, 0, 0, 0, 0, 0, 0, 0, 0, 0, 0, 0, 0, 0, 0, 0, 0, 0, 0, 0, 0, 21, 0, 0, 1, 0, 0, 0, 0, 0, 0, 0, 0, 0, 0, 0, 0, 0, 0, 0, 0, 0, 0, 0, 0, 0, 0, 0, 0, 0, 0, 0, 0, 0, 0, 0, 0, 0, 0, 0, 0, 0, 0, 0, 0, 0, 0, 12, 0, 0, 0, 0, 0, 0, 0, 0, 0, 0, 0, 0, 0, 0, 0, 0, 0, 0, 0, 0, 0, 0, 0, 0, 0, 0, 0, 0, 0, 0, 0, 0, 0, 0, 0, 13, 0, 0, 0, 0, 0, 1, 0, 0, 0, 0, 0, 0, 1, 0, 0, 0, 0, 0, 0, 0, 0, 0, 0, 0, 0, 2]\n",
            "Counter({0: 888, 1: 45, 2: 8, 9: 6, 22: 4, 5: 4, 7: 4, 3: 3, 15: 3, 21: 3, 4: 2, 30: 2, 16: 2, 12: 2, 24: 2, 26: 2, 10: 2, 20: 2, 8: 2, 17: 2, 18: 2, 33: 2, 13: 2, 14: 1, 27: 1, 29: 1, 11: 1, 28: 1, 32: 1})\n",
            "\n",
            "RANDOM TEST DOCUMENT (320): «how to impress your lady how to know if you should confide in her how to know what she wants these are some of»\n",
            "\n",
            "SIMILAR/DISSIMILAR DOCS PER MODEL Doc2Vec(dbow+w,d80,n5,hs,w5,mc3,s0.001,t3):\n",
            "\n",
            "MOST (581, 0.4777933955192566): «csherbs so fucking proud of you as you already know you re the man bros till the end»\n",
            "\n",
            "SECOND-MOST (82, 0.46715062856674194): «one half of me wants you and the other half wants to forget»\n",
            "\n",
            "THIRD-MOST (208, 0.4621945917606354): «if you have more month at the end of your money can show you how to make every friday idgt»\n",
            "\n",
            "MEDIAN (236, 0.16555850207805634): «rt wshhfans still one of the best videos»\n",
            "\n",
            "LEAST (274, -0.13608834147453308): «rt realhistorypic kanhaiyakumar with the help of opposition cornering the ruling govt for its misadventures»\n",
            "\n"
          ],
          "name": "stdout"
        },
        {
          "output_type": "stream",
          "text": [
            "\u001b[32m[I 2021-02-16 00:10:55,575]\u001b[0m A new study created in memory with name: no-name-5aafc2d2-b60d-45c9-8551-8e6a5020e65f\u001b[0m\n"
          ],
          "name": "stderr"
        },
        {
          "output_type": "stream",
          "text": [
            "first_ranks_test:  [128, 234, 542, 492, 994, 288, 349, 529, 238, 131, 168, 37, 814, 656, 662, 46, 582, 325, 87, 77, 142, 893, 208, 412, 83, 82, 312, 554, 507, 235, 108, 36, 647, 42, 494, 7, 145, 496, 262, 177, 375, 893, 686, 914, 485, 355, 949, 367, 76, 82, 106, 250, 535, 665, 347, 68, 954, 298, 389, 789, 621, 5, 82, 939, 64, 545, 738, 67, 205, 251, 781, 764, 96, 611, 516, 345, 285, 76, 131, 546, 994, 111, 131, 854, 503, 82, 186, 844, 642, 897, 87, 733, 221, 796, 768, 924, 131, 481, 147, 148, 634, 500, 131, 17, 391, 103, 141, 906, 657, 514, 791, 106, 95, 163, 46, 921, 117, 381, 956, 769, 647, 886, 859, 197, 314, 303, 131, 131, 608, 764, 974, 788, 165, 9, 576, 352, 557, 683, 438, 660, 457, 264, 226, 722, 715, 633, 11, 334, 201, 859, 607, 131, 656, 14, 659, 776, 682, 79, 87, 287, 259, 682, 399, 895, 352, 698, 259, 989, 383, 397, 621, 261, 964, 640, 720, 278, 992, 360, 775, 967, 628, 42, 82, 169, 199, 854, 909, 454, 426, 571, 474, 888, 633, 127, 318, 170, 234, 604, 430, 369, 795, 133, 635, 635, 514, 899, 100, 106, 834, 500, 22, 976, 95, 3, 490, 398, 840, 918, 950, 278, 188, 878, 716, 959, 89, 942, 943, 888, 967, 176, 168, 859, 886, 91, 818, 615, 6, 163, 894, 678, 268, 485, 204, 418, 912, 492, 851, 886, 874, 553, 936, 950, 250, 608, 691, 459, 550, 42, 407, 131, 633, 541, 133, 120, 541, 486, 69, 145, 458, 551, 698, 508, 150, 382, 131, 893, 382, 687, 966, 50, 876, 122, 117, 351, 949, 640, 85, 758, 258, 452, 29, 769, 63, 435, 103, 443, 437, 607, 570, 234, 234, 900, 291, 381, 151, 805, 961, 105, 131, 459, 553, 445, 760, 851, 903, 305, 964, 773, 871, 152, 581, 800, 743, 129, 716, 422, 600, 982, 292, 396, 861, 374, 168, 769, 235, 186, 131, 11, 834, 970, 331, 483, 634, 441, 305, 877, 566, 233, 454, 961, 261, 42, 103, 437, 222, 90, 578, 98, 107, 776, 660, 568, 292, 43, 131, 932, 288, 267, 28, 682, 392, 95, 312, 568, 99, 464, 435, 635, 131, 1, 264, 140, 886, 718, 258, 597, 125, 659, 320, 181, 19, 191, 546, 898, 213, 659, 476, 188, 577, 291, 882, 783, 894, 324, 272, 671, 405, 945, 733, 708, 659, 755, 453, 298, 964, 223, 32, 836, 342, 635, 51, 42, 754, 625, 512, 503, 886, 95, 695, 611, 633, 150, 900, 407, 131, 529, 513, 252, 809, 352, 169, 827, 483, 215, 207, 342, 519, 103, 188, 504, 919, 51, 558, 812, 733, 196, 250, 660, 463, 578, 261, 809, 360, 789, 710, 516, 714, 42, 578, 131, 811, 837, 483, 895, 711, 459, 657, 127, 131, 135, 476, 657, 213, 111, 126, 450, 481, 744, 107, 63, 958, 250, 926, 251, 987, 647, 439, 131, 340, 174, 842, 77, 772, 282, 885, 292, 619, 111, 553, 488, 699, 245, 861, 659, 859, 292, 981, 814, 164, 117, 578, 808, 41, 950, 886, 269, 55, 485, 714, 790, 609, 920, 570, 492, 747, 905, 87, 818, 294, 983, 886, 986, 696, 256, 564, 256, 796, 493, 819, 152, 970, 94, 11, 351, 501, 578, 843, 759, 759, 292, 437, 966, 131, 769, 399, 719, 689, 805, 551, 886, 405, 641, 967, 87, 943, 647, 861, 851, 259, 289, 581, 428, 132, 441, 311, 573, 972, 443, 270, 28, 364, 692, 28, 167, 193, 761, 822, 722, 825, 496, 782, 326, 814, 697, 697, 568, 720, 589, 44, 886, 622, 609, 575, 89, 886, 423, 427, 87, 733, 131, 660, 656, 682, 789, 213, 139, 929, 143, 87, 125, 65, 9, 904, 177, 69, 214, 133, 707, 131, 723, 886, 160, 591, 444, 131, 740, 257, 378, 454, 551, 807, 965, 428, 133, 202, 79, 651, 917, 121, 508, 14, 196, 748, 978, 962, 678, 886, 28, 90, 907, 843, 967, 776, 146, 600, 369, 956, 496, 931, 292, 597, 607, 336, 405, 82, 324, 454, 853, 659, 787, 381, 549, 324, 396, 392, 289, 719, 816, 72, 4, 660, 775, 629, 600, 321, 429, 162, 458, 733, 598, 6, 191, 589, 739, 551, 145, 298, 220, 695, 131, 723, 143, 473, 785, 834, 539, 886, 720, 186, 23, 115, 318, 80, 824, 743, 413, 386, 336, 615, 747, 492, 927, 767, 787, 299, 598, 822, 428, 667, 454, 538, 375, 695, 131, 682, 950, 426, 836, 763, 98, 208, 61, 574, 787, 632, 28, 91, 145, 851, 496, 127, 656, 131, 483, 808, 386, 784, 662, 886, 886, 776, 382, 775, 390, 886, 885, 596, 856, 131, 97, 510, 695, 782, 191, 102, 42, 857, 787, 748, 549, 131, 328, 796, 11, 786, 131, 398, 826, 597, 386, 114, 587, 672, 992, 698, 426, 515, 660, 776, 678, 307, 642, 208, 580, 43, 897, 886, 972, 106, 52, 924, 678, 35, 134, 180, 488, 787, 379, 315, 318, 583, 837, 546, 269, 678, 360, 382, 576, 454, 131, 450, 127, 105, 248, 11, 307, 666, 617, 369, 816, 503, 218, 616, 223, 468, 222, 685, 886, 207, 992, 549, 748, 196, 161, 562, 880, 457, 213, 42, 928, 131, 546, 972, 766, 131, 682, 380, 529, 205, 861, 912, 942, 140, 574, 791, 148, 732, 614, 993, 886, 34, 336, 789, 939, 984, 632, 82, 912, 886, 337, 895, 705, 822, 877, 84, 603, 660, 778, 526, 976, 471, 546, 886, 95, 324, 101, 635, 664, 587, 250, 566, 906, 418, 778, 173, 197, 503, 574, 131, 244, 343, 221, 712, 977, 905, 890, 140, 612, 463, 449, 223, 335, 794, 722, 525, 173, 191, 972, 974, 106, 335, 81, 878, 323, 131, 249, 428, 322, 778, 131, 242, 662, 587, 794, 69, 816, 366, 723, 311, 250, 628, 967, 540, 806, 934, 810, 886, 848, 516, 137, 964, 148, 831, 29, 529, 695, 768, 900, 893, 111]\n"
          ],
          "name": "stdout"
        },
        {
          "output_type": "stream",
          "text": [
            "\u001b[32m[I 2021-02-16 00:11:37,170]\u001b[0m Trial 0 finished with value: 0.11600000000000002 and parameters: {'classifier': 'LogReg', 'logreg_c': 55.084002559521835}. Best is trial 0 with value: 0.11600000000000002.\u001b[0m\n",
            "\u001b[32m[I 2021-02-16 00:12:17,520]\u001b[0m Trial 1 finished with value: 0.11800000000000002 and parameters: {'classifier': 'LogReg', 'logreg_c': 168.64771504476758}. Best is trial 1 with value: 0.11800000000000002.\u001b[0m\n",
            "\u001b[32m[I 2021-02-16 00:12:49,186]\u001b[0m Trial 2 finished with value: 0.12000000000000002 and parameters: {'classifier': 'LogReg', 'logreg_c': 180188539.01945555}. Best is trial 2 with value: 0.12000000000000002.\u001b[0m\n",
            "\u001b[32m[I 2021-02-16 00:13:22,065]\u001b[0m Trial 3 finished with value: 0.03400000000000001 and parameters: {'classifier': 'LogReg', 'logreg_c': 3.2018256198447797e-06}. Best is trial 2 with value: 0.12000000000000002.\u001b[0m\n",
            "\u001b[32m[I 2021-02-16 00:13:52,863]\u001b[0m Trial 4 finished with value: 0.03400000000000001 and parameters: {'classifier': 'LogReg', 'logreg_c': 1.2077337831279332e-06}. Best is trial 2 with value: 0.12000000000000002.\u001b[0m\n",
            "\u001b[32m[I 2021-02-16 00:14:25,526]\u001b[0m Trial 5 finished with value: 0.12000000000000002 and parameters: {'classifier': 'LogReg', 'logreg_c': 112537403.5486739}. Best is trial 2 with value: 0.12000000000000002.\u001b[0m\n",
            "\u001b[32m[I 2021-02-16 00:14:48,465]\u001b[0m Trial 6 finished with value: 0.03400000000000001 and parameters: {'classifier': 'LogReg', 'logreg_c': 0.0006988609850738134}. Best is trial 2 with value: 0.12000000000000002.\u001b[0m\n",
            "\u001b[32m[I 2021-02-16 00:15:14,337]\u001b[0m Trial 7 finished with value: 0.03400000000000001 and parameters: {'classifier': 'LogReg', 'logreg_c': 0.0003164305145224998}. Best is trial 2 with value: 0.12000000000000002.\u001b[0m\n",
            "\u001b[32m[I 2021-02-16 00:15:47,729]\u001b[0m Trial 8 finished with value: 0.11500000000000002 and parameters: {'classifier': 'LogReg', 'logreg_c': 1.500924351257209}. Best is trial 2 with value: 0.12000000000000002.\u001b[0m\n",
            "\u001b[32m[I 2021-02-16 00:16:29,746]\u001b[0m Trial 9 finished with value: 0.12000000000000002 and parameters: {'classifier': 'LogReg', 'logreg_c': 1478475.4067643487}. Best is trial 2 with value: 0.12000000000000002.\u001b[0m\n",
            "\u001b[32m[I 2021-02-16 00:16:55,095]\u001b[0m Trial 10 finished with value: 0.11800000000000002 and parameters: {'classifier': 'LogReg', 'logreg_c': 6448204024.444374}. Best is trial 2 with value: 0.12000000000000002.\u001b[0m\n",
            "\u001b[32m[I 2021-02-16 00:17:20,590]\u001b[0m Trial 11 finished with value: 0.11800000000000002 and parameters: {'classifier': 'LogReg', 'logreg_c': 3928519385.8626995}. Best is trial 2 with value: 0.12000000000000002.\u001b[0m\n",
            "\u001b[32m[I 2021-02-16 00:18:03,068]\u001b[0m Trial 12 finished with value: 0.11900000000000002 and parameters: {'classifier': 'LogReg', 'logreg_c': 778554.1038994953}. Best is trial 2 with value: 0.12000000000000002.\u001b[0m\n",
            "\u001b[32m[I 2021-02-16 00:18:45,332]\u001b[0m Trial 13 finished with value: 0.11800000000000002 and parameters: {'classifier': 'LogReg', 'logreg_c': 3040195.253921534}. Best is trial 2 with value: 0.12000000000000002.\u001b[0m\n",
            "\u001b[32m[I 2021-02-16 00:18:46,740]\u001b[0m Trial 14 finished with value: 0.052000000000000005 and parameters: {'classifier': 'LogReg', 'logreg_c': 1.234655389287231e-10}. Best is trial 2 with value: 0.12000000000000002.\u001b[0m\n",
            "\u001b[32m[I 2021-02-16 00:19:16,514]\u001b[0m Trial 15 finished with value: 0.11800000000000002 and parameters: {'classifier': 'LogReg', 'logreg_c': 271478185.97495013}. Best is trial 2 with value: 0.12000000000000002.\u001b[0m\n",
            "\u001b[32m[I 2021-02-16 00:19:58,572]\u001b[0m Trial 16 finished with value: 0.11800000000000002 and parameters: {'classifier': 'LogReg', 'logreg_c': 104117.9163704991}. Best is trial 2 with value: 0.12000000000000002.\u001b[0m\n",
            "\u001b[32m[I 2021-02-16 00:20:39,289]\u001b[0m Trial 17 finished with value: 0.11900000000000002 and parameters: {'classifier': 'LogReg', 'logreg_c': 4213.478569251639}. Best is trial 2 with value: 0.12000000000000002.\u001b[0m\n",
            "\u001b[32m[I 2021-02-16 00:21:11,547]\u001b[0m Trial 18 finished with value: 0.11900000000000002 and parameters: {'classifier': 'LogReg', 'logreg_c': 185664228.20249277}. Best is trial 2 with value: 0.12000000000000002.\u001b[0m\n",
            "\u001b[32m[I 2021-02-16 00:21:52,782]\u001b[0m Trial 19 finished with value: 0.11900000000000002 and parameters: {'classifier': 'LogReg', 'logreg_c': 25044.719340500356}. Best is trial 2 with value: 0.12000000000000002.\u001b[0m\n"
          ],
          "name": "stderr"
        },
        {
          "output_type": "stream",
          "text": [
            "score:  [0.14 0.13 0.13 0.14 0.12 0.06 0.09 0.15 0.09 0.11]\n",
            "Validation accuracy: 11.6\n",
            "Test accuracy: 0.527\n"
          ],
          "name": "stdout"
        }
      ]
    },
    {
      "cell_type": "code",
      "metadata": {
        "colab": {
          "base_uri": "https://localhost:8080/",
          "height": 329
        },
        "id": "-pxdizTp8alH",
        "outputId": "b541aa2d-070d-46eb-fd40-df525fe26687"
      },
      "source": [
        "pip install -U scikit-learn"
      ],
      "execution_count": null,
      "outputs": [
        {
          "output_type": "stream",
          "text": [
            "Collecting scikit-learn\n",
            "\u001b[?25l  Downloading https://files.pythonhosted.org/packages/e2/4c/6111b9a325f29527d7f262e2ee8c730d354b47a728d955e186dacad57a0d/scikit_learn-0.24.1-cp36-cp36m-manylinux2010_x86_64.whl (22.2MB)\n",
            "\u001b[K     |████████████████████████████████| 22.2MB 1.4MB/s \n",
            "\u001b[?25hRequirement already satisfied, skipping upgrade: joblib>=0.11 in /usr/local/lib/python3.6/dist-packages (from scikit-learn) (1.0.0)\n",
            "Requirement already satisfied, skipping upgrade: scipy>=0.19.1 in /usr/local/lib/python3.6/dist-packages (from scikit-learn) (1.4.1)\n",
            "Requirement already satisfied, skipping upgrade: numpy>=1.13.3 in /usr/local/lib/python3.6/dist-packages (from scikit-learn) (1.19.5)\n",
            "Collecting threadpoolctl>=2.0.0\n",
            "  Downloading https://files.pythonhosted.org/packages/f7/12/ec3f2e203afa394a149911729357aa48affc59c20e2c1c8297a60f33f133/threadpoolctl-2.1.0-py3-none-any.whl\n",
            "Installing collected packages: threadpoolctl, scikit-learn\n",
            "  Found existing installation: scikit-learn 0.22.2.post1\n",
            "    Uninstalling scikit-learn-0.22.2.post1:\n",
            "      Successfully uninstalled scikit-learn-0.22.2.post1\n",
            "Successfully installed scikit-learn-0.24.1 threadpoolctl-2.1.0\n"
          ],
          "name": "stdout"
        },
        {
          "output_type": "display_data",
          "data": {
            "application/vnd.colab-display-data+json": {
              "pip_warning": {
                "packages": [
                  "sklearn"
                ]
              }
            }
          },
          "metadata": {
            "tags": []
          }
        }
      ]
    },
    {
      "cell_type": "code",
      "metadata": {
        "colab": {
          "base_uri": "https://localhost:8080/"
        },
        "id": "7Du-ffuzkzgN",
        "outputId": "ba27e3ab-2597-4ea3-f414-072bad33475b"
      },
      "source": [
        "pip install optuna"
      ],
      "execution_count": 2,
      "outputs": [
        {
          "output_type": "stream",
          "text": [
            "Collecting optuna\n",
            "\u001b[?25l  Downloading https://files.pythonhosted.org/packages/91/88/9c53460b97c61bce926dfe9dce51e4887c283416ff89ed30af0b73f44efa/optuna-2.5.0-py3-none-any.whl (287kB)\n",
            "\r\u001b[K     |█▏                              | 10kB 17.8MB/s eta 0:00:01\r\u001b[K     |██▎                             | 20kB 20.6MB/s eta 0:00:01\r\u001b[K     |███▍                            | 30kB 17.6MB/s eta 0:00:01\r\u001b[K     |████▋                           | 40kB 11.4MB/s eta 0:00:01\r\u001b[K     |█████▊                          | 51kB 10.0MB/s eta 0:00:01\r\u001b[K     |██████▉                         | 61kB 10.0MB/s eta 0:00:01\r\u001b[K     |████████                        | 71kB 8.8MB/s eta 0:00:01\r\u001b[K     |█████████▏                      | 81kB 9.3MB/s eta 0:00:01\r\u001b[K     |██████████▎                     | 92kB 9.2MB/s eta 0:00:01\r\u001b[K     |███████████▍                    | 102kB 9.0MB/s eta 0:00:01\r\u001b[K     |████████████▌                   | 112kB 9.0MB/s eta 0:00:01\r\u001b[K     |█████████████▊                  | 122kB 9.0MB/s eta 0:00:01\r\u001b[K     |██████████████▉                 | 133kB 9.0MB/s eta 0:00:01\r\u001b[K     |████████████████                | 143kB 9.0MB/s eta 0:00:01\r\u001b[K     |█████████████████               | 153kB 9.0MB/s eta 0:00:01\r\u001b[K     |██████████████████▎             | 163kB 9.0MB/s eta 0:00:01\r\u001b[K     |███████████████████▍            | 174kB 9.0MB/s eta 0:00:01\r\u001b[K     |████████████████████▌           | 184kB 9.0MB/s eta 0:00:01\r\u001b[K     |█████████████████████▋          | 194kB 9.0MB/s eta 0:00:01\r\u001b[K     |██████████████████████▉         | 204kB 9.0MB/s eta 0:00:01\r\u001b[K     |████████████████████████        | 215kB 9.0MB/s eta 0:00:01\r\u001b[K     |█████████████████████████       | 225kB 9.0MB/s eta 0:00:01\r\u001b[K     |██████████████████████████▎     | 235kB 9.0MB/s eta 0:00:01\r\u001b[K     |███████████████████████████▍    | 245kB 9.0MB/s eta 0:00:01\r\u001b[K     |████████████████████████████▌   | 256kB 9.0MB/s eta 0:00:01\r\u001b[K     |█████████████████████████████▋  | 266kB 9.0MB/s eta 0:00:01\r\u001b[K     |██████████████████████████████▉ | 276kB 9.0MB/s eta 0:00:01\r\u001b[K     |████████████████████████████████| 286kB 9.0MB/s eta 0:00:01\r\u001b[K     |████████████████████████████████| 296kB 9.0MB/s \n",
            "\u001b[?25hRequirement already satisfied: packaging>=20.0 in /usr/local/lib/python3.6/dist-packages (from optuna) (20.9)\n",
            "Requirement already satisfied: tqdm in /usr/local/lib/python3.6/dist-packages (from optuna) (4.41.1)\n",
            "Collecting alembic\n",
            "\u001b[?25l  Downloading https://files.pythonhosted.org/packages/a9/53/daab5c96e22e9ed1c9f8ca4e3256e72213ade42d519b6254c32e59610967/alembic-1.5.4.tar.gz (1.1MB)\n",
            "\u001b[K     |████████████████████████████████| 1.1MB 13.2MB/s \n",
            "\u001b[?25hRequirement already satisfied: numpy in /usr/local/lib/python3.6/dist-packages (from optuna) (1.19.5)\n",
            "Requirement already satisfied: joblib in /usr/local/lib/python3.6/dist-packages (from optuna) (1.0.0)\n",
            "Collecting cmaes>=0.6.0\n",
            "  Downloading https://files.pythonhosted.org/packages/21/a2/21775c7343e7dd345e5e12cc7b8432e3d3edae2043b01bc2ecf38c432ef7/cmaes-0.8.1-py3-none-any.whl\n",
            "Requirement already satisfied: sqlalchemy>=1.1.0 in /usr/local/lib/python3.6/dist-packages (from optuna) (1.3.23)\n",
            "Requirement already satisfied: scipy!=1.4.0 in /usr/local/lib/python3.6/dist-packages (from optuna) (1.4.1)\n",
            "Collecting colorlog\n",
            "  Downloading https://files.pythonhosted.org/packages/5e/39/0230290df0519d528d8d0ffdfd900150ed24e0076d13b1f19e279444aab1/colorlog-4.7.2-py2.py3-none-any.whl\n",
            "Collecting cliff\n",
            "\u001b[?25l  Downloading https://files.pythonhosted.org/packages/0f/8f/3c74fa4b6c3db1051b495385f5302fc5d5aa0f180d40ce3e9a13c82f8c82/cliff-3.6.0-py3-none-any.whl (79kB)\n",
            "\u001b[K     |████████████████████████████████| 81kB 9.4MB/s \n",
            "\u001b[?25hRequirement already satisfied: pyparsing>=2.0.2 in /usr/local/lib/python3.6/dist-packages (from packaging>=20.0->optuna) (2.4.7)\n",
            "Collecting Mako\n",
            "\u001b[?25l  Downloading https://files.pythonhosted.org/packages/5c/db/2d2d88b924aa4674a080aae83b59ea19d593250bfe5ed789947c21736785/Mako-1.1.4.tar.gz (479kB)\n",
            "\u001b[K     |████████████████████████████████| 481kB 27.4MB/s \n",
            "\u001b[?25hCollecting python-editor>=0.3\n",
            "  Downloading https://files.pythonhosted.org/packages/c6/d3/201fc3abe391bbae6606e6f1d598c15d367033332bd54352b12f35513717/python_editor-1.0.4-py3-none-any.whl\n",
            "Requirement already satisfied: python-dateutil in /usr/local/lib/python3.6/dist-packages (from alembic->optuna) (2.8.1)\n",
            "Collecting stevedore>=2.0.1\n",
            "\u001b[?25l  Downloading https://files.pythonhosted.org/packages/d4/49/b602307aeac3df3384ff1fcd05da9c0376c622a6c48bb5325f28ab165b57/stevedore-3.3.0-py3-none-any.whl (49kB)\n",
            "\u001b[K     |████████████████████████████████| 51kB 8.1MB/s \n",
            "\u001b[?25hCollecting pbr!=2.1.0,>=2.0.0\n",
            "\u001b[?25l  Downloading https://files.pythonhosted.org/packages/fb/48/69046506f6ac61c1eaa9a0d42d22d54673b69e176d30ca98e3f61513e980/pbr-5.5.1-py2.py3-none-any.whl (106kB)\n",
            "\u001b[K     |████████████████████████████████| 112kB 44.2MB/s \n",
            "\u001b[?25hRequirement already satisfied: PyYAML>=3.12 in /usr/local/lib/python3.6/dist-packages (from cliff->optuna) (3.13)\n",
            "Collecting PrettyTable<0.8,>=0.7.2\n",
            "  Downloading https://files.pythonhosted.org/packages/ef/30/4b0746848746ed5941f052479e7c23d2b56d174b82f4fd34a25e389831f5/prettytable-0.7.2.tar.bz2\n",
            "Collecting cmd2!=0.8.3,>=0.8.0\n",
            "\u001b[?25l  Downloading https://files.pythonhosted.org/packages/15/8b/15061b32332bb35ea2a2f6263d0f616779d576e82739ec8e7fcf3c94abf5/cmd2-1.5.0-py3-none-any.whl (133kB)\n",
            "\u001b[K     |████████████████████████████████| 143kB 34.9MB/s \n",
            "\u001b[?25hRequirement already satisfied: MarkupSafe>=0.9.2 in /usr/local/lib/python3.6/dist-packages (from Mako->alembic->optuna) (1.1.1)\n",
            "Requirement already satisfied: six>=1.5 in /usr/local/lib/python3.6/dist-packages (from python-dateutil->alembic->optuna) (1.15.0)\n",
            "Requirement already satisfied: importlib-metadata>=1.7.0; python_version < \"3.8\" in /usr/local/lib/python3.6/dist-packages (from stevedore>=2.0.1->cliff->optuna) (3.4.0)\n",
            "Requirement already satisfied: attrs>=16.3.0 in /usr/local/lib/python3.6/dist-packages (from cmd2!=0.8.3,>=0.8.0->cliff->optuna) (20.3.0)\n",
            "Collecting pyperclip>=1.6\n",
            "  Downloading https://files.pythonhosted.org/packages/6f/4c/0b1d507ad7e8bc31d690d04b4f475e74c2002d060f7994ce8c09612df707/pyperclip-1.8.1.tar.gz\n",
            "Requirement already satisfied: wcwidth>=0.1.7 in /usr/local/lib/python3.6/dist-packages (from cmd2!=0.8.3,>=0.8.0->cliff->optuna) (0.2.5)\n",
            "Collecting colorama>=0.3.7\n",
            "  Downloading https://files.pythonhosted.org/packages/44/98/5b86278fbbf250d239ae0ecb724f8572af1c91f4a11edf4d36a206189440/colorama-0.4.4-py2.py3-none-any.whl\n",
            "Requirement already satisfied: typing-extensions>=3.6.4; python_version < \"3.8\" in /usr/local/lib/python3.6/dist-packages (from importlib-metadata>=1.7.0; python_version < \"3.8\"->stevedore>=2.0.1->cliff->optuna) (3.7.4.3)\n",
            "Requirement already satisfied: zipp>=0.5 in /usr/local/lib/python3.6/dist-packages (from importlib-metadata>=1.7.0; python_version < \"3.8\"->stevedore>=2.0.1->cliff->optuna) (3.4.0)\n",
            "Building wheels for collected packages: alembic, Mako, PrettyTable, pyperclip\n",
            "  Building wheel for alembic (setup.py) ... \u001b[?25l\u001b[?25hdone\n",
            "  Created wheel for alembic: filename=alembic-1.5.4-py2.py3-none-any.whl size=156314 sha256=8e4fe235d15e18da52fa546469aea999107635acb9f330e1ced84f013cf32ad9\n",
            "  Stored in directory: /root/.cache/pip/wheels/fd/2d/ec/5a1b1e2363ed68392d292d215facf588d5448198edd8078bc1\n",
            "  Building wheel for Mako (setup.py) ... \u001b[?25l\u001b[?25hdone\n",
            "  Created wheel for Mako: filename=Mako-1.1.4-py2.py3-none-any.whl size=75675 sha256=adde8992a87ec5a3a742b8dc7abad4ad5b18bcd35f53be76a3421346dc3e2e77\n",
            "  Stored in directory: /root/.cache/pip/wheels/ad/10/d3/aeb26e20d19045e2a68e5d3cbb57432e11b5d9c92c99f98d47\n",
            "  Building wheel for PrettyTable (setup.py) ... \u001b[?25l\u001b[?25hdone\n",
            "  Created wheel for PrettyTable: filename=prettytable-0.7.2-cp36-none-any.whl size=13702 sha256=06612b76dc0c4b800232b7d4572b7b7d3fd795736bc1e84b6144ebb729d5acf7\n",
            "  Stored in directory: /root/.cache/pip/wheels/80/34/1c/3967380d9676d162cb59513bd9dc862d0584e045a162095606\n",
            "  Building wheel for pyperclip (setup.py) ... \u001b[?25l\u001b[?25hdone\n",
            "  Created wheel for pyperclip: filename=pyperclip-1.8.1-cp36-none-any.whl size=11120 sha256=c062db5c9b17a4bb4865a16e21f06ec07746a5ad6d113661ee7b1cb1b3204e73\n",
            "  Stored in directory: /root/.cache/pip/wheels/44/10/3a/c830e9bb3db2c93274ea1f213a41fabde0d8cf3794251fad0c\n",
            "Successfully built alembic Mako PrettyTable pyperclip\n",
            "Installing collected packages: Mako, python-editor, alembic, cmaes, colorlog, pbr, stevedore, PrettyTable, pyperclip, colorama, cmd2, cliff, optuna\n",
            "  Found existing installation: prettytable 2.0.0\n",
            "    Uninstalling prettytable-2.0.0:\n",
            "      Successfully uninstalled prettytable-2.0.0\n",
            "Successfully installed Mako-1.1.4 PrettyTable-0.7.2 alembic-1.5.4 cliff-3.6.0 cmaes-0.8.1 cmd2-1.5.0 colorama-0.4.4 colorlog-4.7.2 optuna-2.5.0 pbr-5.5.1 pyperclip-1.8.1 python-editor-1.0.4 stevedore-3.3.0\n"
          ],
          "name": "stdout"
        }
      ]
    },
    {
      "cell_type": "code",
      "metadata": {
        "colab": {
          "base_uri": "https://localhost:8080/"
        },
        "id": "8rqtTNF2NPFw",
        "outputId": "33dfb139-fa96-49f4-934d-04d0209a2f2a"
      },
      "source": [
        "from sklearn import datasets, linear_model\r\n",
        "from sklearn.model_selection import cross_val_score\r\n",
        "diabetes = datasets.load_diabetes()\r\n",
        "X = diabetes.data[:150]\r\n",
        "y = diabetes.target[:150]\r\n",
        "print('X: ', X)\r\n",
        "print('y: ', y)\r\n",
        "y = diabetes.target[:150]\r\n",
        "lasso = linear_model.Lasso()\r\n",
        "print(cross_val_score(lasso, X, y, cv=3))\r\n"
      ],
      "execution_count": null,
      "outputs": [
        {
          "output_type": "stream",
          "text": [
            "X:  [[ 0.03807591  0.05068012  0.06169621 ... -0.00259226  0.01990842\n",
            "  -0.01764613]\n",
            " [-0.00188202 -0.04464164 -0.05147406 ... -0.03949338 -0.06832974\n",
            "  -0.09220405]\n",
            " [ 0.08529891  0.05068012  0.04445121 ... -0.00259226  0.00286377\n",
            "  -0.02593034]\n",
            " ...\n",
            " [-0.05637009 -0.04464164  0.09295276 ...  0.02545259  0.02605609\n",
            "   0.04034337]\n",
            " [-0.06000263  0.05068012  0.01535029 ... -0.00259226 -0.03075121\n",
            "  -0.0010777 ]\n",
            " [-0.04910502  0.05068012 -0.00512814 ...  0.07120998  0.06123791\n",
            "  -0.03835666]]\n",
            "y:  [151.  75. 141. 206. 135.  97. 138.  63. 110. 310. 101.  69. 179. 185.\n",
            " 118. 171. 166. 144.  97. 168.  68.  49.  68. 245. 184. 202. 137.  85.\n",
            " 131. 283. 129.  59. 341.  87.  65. 102. 265. 276. 252.  90. 100.  55.\n",
            "  61.  92. 259.  53. 190. 142.  75. 142. 155. 225.  59. 104. 182. 128.\n",
            "  52.  37. 170. 170.  61. 144.  52. 128.  71. 163. 150.  97. 160. 178.\n",
            "  48. 270. 202. 111.  85.  42. 170. 200. 252. 113. 143.  51.  52. 210.\n",
            "  65. 141.  55. 134.  42. 111.  98. 164.  48.  96.  90. 162. 150. 279.\n",
            "  92.  83. 128. 102. 302. 198.  95.  53. 134. 144. 232.  81. 104.  59.\n",
            " 246. 297. 258. 229. 275. 281. 179. 200. 200. 173. 180.  84. 121. 161.\n",
            "  99. 109. 115. 268. 274. 158. 107.  83. 103. 272.  85. 280. 336. 281.\n",
            " 118. 317. 235.  60. 174. 259. 178. 128.  96. 126.]\n",
            "[0.33150734 0.08022311 0.03531764]\n"
          ],
          "name": "stdout"
        }
      ]
    },
    {
      "cell_type": "code",
      "metadata": {
        "colab": {
          "base_uri": "https://localhost:8080/",
          "height": 312
        },
        "id": "PNryXVT-bI4O",
        "outputId": "7b42f2a2-ed16-4591-e167-125114c1ae62"
      },
      "source": [
        "pip install --pre --upgrade gensim"
      ],
      "execution_count": 3,
      "outputs": [
        {
          "output_type": "stream",
          "text": [
            "Collecting gensim\n",
            "\u001b[?25l  Downloading https://files.pythonhosted.org/packages/16/4a/c529159de5a417eb2f574941ccd9f937a47cafffaf1a3e485c6e2a8a4153/gensim-4.0.0b0-cp36-cp36m-manylinux1_x86_64.whl (24.0MB)\n",
            "\u001b[K     |████████████████████████████████| 24.0MB 72.7MB/s \n",
            "\u001b[?25hRequirement already satisfied, skipping upgrade: numpy>=1.11.3 in /usr/local/lib/python3.6/dist-packages (from gensim) (1.19.5)\n",
            "Requirement already satisfied, skipping upgrade: dataclasses; python_version < \"3.7\" in /usr/local/lib/python3.6/dist-packages (from gensim) (0.8)\n",
            "Requirement already satisfied, skipping upgrade: smart-open>=1.8.1 in /usr/local/lib/python3.6/dist-packages (from gensim) (4.1.2)\n",
            "Requirement already satisfied, skipping upgrade: scipy>=0.18.1 in /usr/local/lib/python3.6/dist-packages (from gensim) (1.4.1)\n",
            "Installing collected packages: gensim\n",
            "  Found existing installation: gensim 3.6.0\n",
            "    Uninstalling gensim-3.6.0:\n",
            "      Successfully uninstalled gensim-3.6.0\n",
            "Successfully installed gensim-4.0.0b0\n"
          ],
          "name": "stdout"
        },
        {
          "output_type": "display_data",
          "data": {
            "application/vnd.colab-display-data+json": {
              "pip_warning": {
                "packages": [
                  "gensim"
                ]
              }
            }
          },
          "metadata": {
            "tags": []
          }
        }
      ]
    },
    {
      "cell_type": "code",
      "metadata": {
        "colab": {
          "base_uri": "https://localhost:8080/"
        },
        "id": "BIGBM4QwtaAn",
        "outputId": "15b86f6e-b122-45a3-ab1c-d0c64f2fb8ce"
      },
      "source": [
        "\r\n",
        "from google.colab import drive\r\n",
        "drive.mount('/content/drive')"
      ],
      "execution_count": null,
      "outputs": [
        {
          "output_type": "stream",
          "text": [
            "Mounted at /content/drive\n"
          ],
          "name": "stdout"
        }
      ]
    }
  ]
}