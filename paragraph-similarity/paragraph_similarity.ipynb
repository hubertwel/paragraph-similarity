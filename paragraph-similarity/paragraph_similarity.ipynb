{
  "nbformat": 4,
  "nbformat_minor": 0,
  "metadata": {
    "colab": {
      "name": "paragraph_similarity.ipynb",
      "provenance": [],
      "collapsed_sections": [],
      "authorship_tag": "ABX9TyMl8ic77gTBXeh4YIa+R6vy",
      "include_colab_link": true
    },
    "kernelspec": {
      "name": "python3",
      "display_name": "Python 3"
    }
  },
  "cells": [
    {
      "cell_type": "markdown",
      "metadata": {
        "id": "view-in-github",
        "colab_type": "text"
      },
      "source": [
        "<a href=\"https://colab.research.google.com/github/hubertwel/paragraph-similarity/blob/main/paragraph-similarity/paragraph_similarity.ipynb\" target=\"_parent\"><img src=\"https://colab.research.google.com/assets/colab-badge.svg\" alt=\"Open In Colab\"/></a>"
      ]
    },
    {
      "cell_type": "code",
      "metadata": {
        "colab": {
          "base_uri": "https://localhost:8080/"
        },
        "id": "gJr_9dXGpJ05",
        "outputId": "112545b9-839d-4285-83c1-6d342bc3a5d3"
      },
      "source": [
        "import numpy as np\n",
        "\n",
        "import nltk\n",
        "nltk.download('punkt')\n",
        "from nltk.tokenize import word_tokenize\n",
        "from nltk.tokenize import RegexpTokenizer\n",
        "\n",
        "from gensim.models.doc2vec import Doc2Vec, TaggedDocument\n",
        "\n",
        "sentences = [\"I ate dinner.\", \n",
        "       \"I like this restaurant\", \n",
        "       \"Brad came to see us.\",\n",
        "       \"He loves dancing.\",\n",
        "       \"In the end, we all felt like we ate too much.\",\n",
        "       \"We all agreed; it was a magnificent evening.\"]\n",
        "\n",
        "test_sentence = \"I had a tomato soup, chicken and dessert.\"\n",
        "\n",
        "# Tokenization of each document\n",
        "sentence_tk = []\n",
        "sentences_tk = []\n",
        "tokenizer = RegexpTokenizer(r'\\w+')\n",
        "for s in sentences:\n",
        "    sentence_tk = tokenizer.tokenize(s.lower())\n",
        "    sentences_tk.append(sentence_tk)\n",
        "print('tokenized sentences: ', sentences_tk)\n",
        "print()\n",
        "tagged_data = [TaggedDocument(d, [i]) for i, d in enumerate(sentences_tk)]\n",
        "print('tagged data: ', tagged_data)\n",
        "print()\n",
        "\n",
        "# Train doc2vec model\n",
        "# vector_size: dimensionality of the feature vectors.\n",
        "# window: the maximum distance between the current and predicted word within a sentence.\n",
        "# min_count: ignores all words with total frequency lower than this.\n",
        "# epochs: preferred number of passes\n",
        "model = Doc2Vec(tagged_data, vector_size = 20, window = 2, min_count = 1, epochs = 100)\n",
        "\n",
        "## Print model vocabulary\n",
        "print('model vocabulary: ', model.wv.vocab)\n",
        "\n",
        "test_sentence_tk = tokenizer.tokenize(test_sentence.lower())\n",
        "print('test_sentence_tk: ', test_sentence_tk)\n",
        "\n",
        "# Find the top 5 most similar sentences from training data\n",
        "# positive: list of sentences that contribute positively\n",
        "test_sent_vector = model.infer_vector(test_sentence_tk)\n",
        "documents_vectors = model.docvecs.most_similar(positive = [test_sent_vector])\n",
        "print('documents_vectors: ', documents_vectors)\n",
        "print()"
      ],
      "execution_count": 24,
      "outputs": [
        {
          "output_type": "stream",
          "text": [
            "[nltk_data] Downloading package punkt to /root/nltk_data...\n",
            "[nltk_data]   Package punkt is already up-to-date!\n",
            "tokenized sentences:  [['i', 'ate', 'dinner'], ['i', 'like', 'this', 'restaurant'], ['brad', 'came', 'to', 'see', 'us'], ['he', 'loves', 'dancing'], ['in', 'the', 'end', 'we', 'all', 'felt', 'like', 'we', 'ate', 'too', 'much'], ['we', 'all', 'agreed', 'it', 'was', 'a', 'magnificent', 'evening']]\n",
            "\n",
            "tagged data:  [TaggedDocument(words=['i', 'ate', 'dinner'], tags=[0]), TaggedDocument(words=['i', 'like', 'this', 'restaurant'], tags=[1]), TaggedDocument(words=['brad', 'came', 'to', 'see', 'us'], tags=[2]), TaggedDocument(words=['he', 'loves', 'dancing'], tags=[3]), TaggedDocument(words=['in', 'the', 'end', 'we', 'all', 'felt', 'like', 'we', 'ate', 'too', 'much'], tags=[4]), TaggedDocument(words=['we', 'all', 'agreed', 'it', 'was', 'a', 'magnificent', 'evening'], tags=[5])]\n",
            "\n",
            "model vocabulary:  {'i': <gensim.models.keyedvectors.Vocab object at 0x7fc447c87940>, 'ate': <gensim.models.keyedvectors.Vocab object at 0x7fc447c87a20>, 'dinner': <gensim.models.keyedvectors.Vocab object at 0x7fc447c87ac8>, 'like': <gensim.models.keyedvectors.Vocab object at 0x7fc447c87128>, 'this': <gensim.models.keyedvectors.Vocab object at 0x7fc447c87358>, 'restaurant': <gensim.models.keyedvectors.Vocab object at 0x7fc447c87588>, 'brad': <gensim.models.keyedvectors.Vocab object at 0x7fc447c872e8>, 'came': <gensim.models.keyedvectors.Vocab object at 0x7fc447c87b00>, 'to': <gensim.models.keyedvectors.Vocab object at 0x7fc447c875f8>, 'see': <gensim.models.keyedvectors.Vocab object at 0x7fc447c87240>, 'us': <gensim.models.keyedvectors.Vocab object at 0x7fc447c87198>, 'he': <gensim.models.keyedvectors.Vocab object at 0x7fc447c87470>, 'loves': <gensim.models.keyedvectors.Vocab object at 0x7fc447c87320>, 'dancing': <gensim.models.keyedvectors.Vocab object at 0x7fc447c873c8>, 'in': <gensim.models.keyedvectors.Vocab object at 0x7fc447c876a0>, 'the': <gensim.models.keyedvectors.Vocab object at 0x7fc447c87438>, 'end': <gensim.models.keyedvectors.Vocab object at 0x7fc447c87668>, 'we': <gensim.models.keyedvectors.Vocab object at 0x7fc447c87710>, 'all': <gensim.models.keyedvectors.Vocab object at 0x7fc447c87748>, 'felt': <gensim.models.keyedvectors.Vocab object at 0x7fc447c877b8>, 'too': <gensim.models.keyedvectors.Vocab object at 0x7fc447c87b38>, 'much': <gensim.models.keyedvectors.Vocab object at 0x7fc447c87ba8>, 'agreed': <gensim.models.keyedvectors.Vocab object at 0x7fc447c879e8>, 'it': <gensim.models.keyedvectors.Vocab object at 0x7fc447c876d8>, 'was': <gensim.models.keyedvectors.Vocab object at 0x7fc447c87080>, 'a': <gensim.models.keyedvectors.Vocab object at 0x7fc447c87a90>, 'magnificent': <gensim.models.keyedvectors.Vocab object at 0x7fc447c87c18>, 'evening': <gensim.models.keyedvectors.Vocab object at 0x7fc447c87160>}\n",
            "test_sentence_tk:  ['i', 'had', 'a', 'tomato', 'soup', 'chicken', 'and', 'dessert']\n",
            "documents_vectors:  [(0, 0.7369184494018555), (3, 0.32837510108947754), (2, 0.14308300614356995), (4, 0.0726320892572403), (5, -0.06436041742563248), (1, -0.18978706002235413)]\n",
            "\n"
          ],
          "name": "stdout"
        }
      ]
    },
    {
      "cell_type": "code",
      "metadata": {
        "colab": {
          "base_uri": "https://localhost:8080/"
        },
        "id": "7uyNVk1yAbYX",
        "outputId": "f556f1ec-6ad9-485f-e410-0a0a4613debd"
      },
      "source": [
        "pip install --upgrade gensim"
      ],
      "execution_count": 6,
      "outputs": [
        {
          "output_type": "stream",
          "text": [
            "Collecting gensim\n",
            "\u001b[?25l  Downloading https://files.pythonhosted.org/packages/2b/e0/fa6326251692056dc880a64eb22117e03269906ba55a6864864d24ec8b4e/gensim-3.8.3-cp36-cp36m-manylinux1_x86_64.whl (24.2MB)\n",
            "\u001b[K     |████████████████████████████████| 24.2MB 163kB/s \n",
            "\u001b[?25hRequirement already satisfied, skipping upgrade: smart-open>=1.8.1 in /usr/local/lib/python3.6/dist-packages (from gensim) (4.1.2)\n",
            "Requirement already satisfied, skipping upgrade: numpy>=1.11.3 in /usr/local/lib/python3.6/dist-packages (from gensim) (1.19.5)\n",
            "Requirement already satisfied, skipping upgrade: scipy>=0.18.1 in /usr/local/lib/python3.6/dist-packages (from gensim) (1.4.1)\n",
            "Requirement already satisfied, skipping upgrade: six>=1.5.0 in /usr/local/lib/python3.6/dist-packages (from gensim) (1.15.0)\n",
            "Installing collected packages: gensim\n",
            "  Found existing installation: gensim 3.6.0\n",
            "    Uninstalling gensim-3.6.0:\n",
            "      Successfully uninstalled gensim-3.6.0\n",
            "Successfully installed gensim-3.8.3\n"
          ],
          "name": "stdout"
        }
      ]
    }
  ]
}