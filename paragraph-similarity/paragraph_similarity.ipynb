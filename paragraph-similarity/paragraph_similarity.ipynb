{
  "nbformat": 4,
  "nbformat_minor": 0,
  "metadata": {
    "colab": {
      "name": "paragraph_similarity.ipynb",
      "provenance": [],
      "collapsed_sections": [],
      "mount_file_id": "1Cpzo7rPDVpGRiYAGuvjvEmJGO9IcQELh",
      "authorship_tag": "ABX9TyOPLMebNsrcwh6WSaHQNO3W",
      "include_colab_link": true
    },
    "kernelspec": {
      "display_name": "Python 3",
      "name": "python3"
    }
  },
  "cells": [
    {
      "cell_type": "markdown",
      "metadata": {
        "id": "view-in-github",
        "colab_type": "text"
      },
      "source": [
        "<a href=\"https://colab.research.google.com/github/hubertwel/paragraph-similarity/blob/main/paragraph-similarity/paragraph_similarity.ipynb\" target=\"_parent\"><img src=\"https://colab.research.google.com/assets/colab-badge.svg\" alt=\"Open In Colab\"/></a>"
      ]
    },
    {
      "cell_type": "code",
      "metadata": {
        "colab": {
          "base_uri": "https://localhost:8080/"
        },
        "id": "gJr_9dXGpJ05",
        "outputId": "6c6cc4df-489b-4e96-da65-e18aec2e81f5"
      },
      "source": [
        "# UNDER CONSTRUCTION\n",
        "from gensim.models.doc2vec import Doc2Vec, TaggedDocument\n",
        "from gensim.corpora import Dictionary\n",
        "from gensim.parsing.preprocessing import preprocess_string\n",
        "from gensim.parsing.preprocessing import strip_tags, strip_multiple_whitespaces\n",
        "from gensim.parsing.preprocessing import remove_stopwords, strip_short\n",
        "from gensim.parsing.preprocessing import strip_non_alphanum, split_alphanum\n",
        "from gensim.parsing.preprocessing import strip_punctuation\n",
        "from gensim.utils import simple_preprocess\n",
        "from gensim.utils import RULE_KEEP, RULE_DISCARD, RULE_DEFAULT\n",
        "from gensim.test.utils import get_tmpfile\n",
        "from sklearn.linear_model import LogisticRegression\n",
        "from sklearn.model_selection import KFold, cross_val_score\n",
        "from sklearn import linear_model\n",
        "from sklearn.metrics import accuracy_score\n",
        "from nltk.corpus import stopwords  \n",
        "from nltk.tokenize import word_tokenize\n",
        "import numpy as np\n",
        "import os\n",
        "import smart_open\n",
        "import csv\n",
        "import collections\n",
        "import random\n",
        "import re\n",
        "import optuna\n",
        "\n",
        "def read_corpus(fname, tokens_only=False):\n",
        "    with smart_open.open(fname, encoding=\"iso-8859-1\") as f:\n",
        "        csv_reader = csv.DictReader(f, quoting=csv.QUOTE_ALL)\n",
        "        CUSTOM_FILTERS = [lambda x: x.lower(), strip_tags, strip_multiple_whitespaces]\n",
        "        for i, row in enumerate(csv_reader):\n",
        "          line = row['x']\n",
        "          line = remove_urls(line)\n",
        "          line_list = preprocess_string(line, CUSTOM_FILTERS)\n",
        "          line = \" \".join(line_list)\n",
        "          tokens = simple_preprocess(line)\n",
        "          if tokens_only:\n",
        "            yield tokens\n",
        "          else:\n",
        "            # For training data, add tags\n",
        "            yield TaggedDocument(tokens, [i])\n",
        "\n",
        "def remove_urls(text):\n",
        "  text = re.sub(r'https?:\\/\\/.*[\\r\\n]*', ' ', text, flags=re.MULTILINE)\n",
        "  return text\n",
        "\n",
        "def trim_rule(word, count, min_count):\n",
        "    stop_words = set(stopwords.words('english')) \n",
        "    # This rule is only used to prune vocabulary during the current method call,\n",
        "    # so that documents can be printed with stopwords and with words of any length\n",
        "    if ((word in stop_words) or (len(word) < 3)):\n",
        "        return utils.RULE_DISCARD  # throw out\n",
        "    else:\n",
        "        return utils.RULE_DEFAULT  # apply default rule, i.e. min_count\n",
        "\n",
        "# Define an objective function to be maximized\n",
        "def objective(trial):\n",
        "  classifier_name = trial.suggest_categorical(\"classifier\", [\"LogReg\"])\n",
        "  # Setup values for the hyperparameters:\n",
        "  if classifier_name == 'LogReg':\n",
        "    logreg_c = trial.suggest_float(\"logreg_c\", 1e-10, 1e10, log=True)\n",
        "    clf = linear_model.LogisticRegression(C=logreg_c)\n",
        "  # Scoring method:\n",
        "    k_fold = KFold(n_splits=10, shuffle=True, random_state=0)\n",
        "    score = cross_val_score(clf, X_train, y_train, cv=k_fold, n_jobs=-1, scoring='accuracy')\n",
        "    accuracy = score.mean()\n",
        "    return accuracy\n",
        "\n",
        "def main():    \n",
        "  global X_train, y_train\n",
        "\n",
        "  # Set file names for train and test data\n",
        "  # test_data_dir = os.path.join(gensim.__path__[0], 'test', 'test_data')\n",
        "  test_data_dir = os.path.join('/content/drive/MyDrive/Colab Notebooks/data/', 'gouvfr', 'CorpusRandomTwitter')\n",
        "  print(\"test_data_dir: %s\" % test_data_dir)\n",
        "  train_file = os.path.join(test_data_dir, 'randomtweets3.txt')\n",
        "  test_file = os.path.join(test_data_dir, 'randomtweets4.txt')\n",
        "\n",
        "  train_corpus = list(read_corpus(train_file, tokens_only=True))\n",
        "  train_corpus_tagged = list(read_corpus(train_file))\n",
        "  test_corpus = list(read_corpus(test_file, tokens_only=True))\n",
        "\n",
        "  print('train_corpus the beginning: ', train_corpus[:2])\n",
        "  print('train_corpus length %d' % len(train_corpus))\n",
        "  print('train_corpus_tagged the beginning: ', train_corpus_tagged[:2])\n",
        "  print('test_corpus the beginning: ', test_corpus[:2])\n",
        "  print('test_corpus length %d' %len(test_corpus))\n",
        "  print()\n",
        "\n",
        "  # Build a vocabulary\n",
        "  model = Doc2Vec(dm=0, vector_size=80, min_count=3, epochs=50, hs=1, dbow_words=1, trim_rule=trim_rule)\n",
        "  model.build_vocab(train_corpus_tagged)\n",
        "\n",
        "  # Train the model on the corpus\n",
        "  model.train(train_corpus_tagged, total_examples=model.corpus_count, epochs=model.epochs)\n",
        "  print()\n",
        "\n",
        "  # Assessing the model\n",
        "  ranks = []\n",
        "  first_ranks = []\n",
        "  second_ranks = []\n",
        "  inferred_vectors = []\n",
        "  for doc_id in range(len(train_corpus_tagged)):\n",
        "    inferred_vector = model.infer_vector(train_corpus_tagged[doc_id].words)\n",
        "    sims = model.dv.most_similar([inferred_vector], topn=len(model.dv))\n",
        "    # sanity check (self-similarity)\n",
        "    rank = [docid for docid, sim in sims].index(doc_id)\n",
        "    ranks.append(rank)\n",
        "    first_ranks.append(sims[0][0])\n",
        "    inferred_vectors.append(inferred_vector)\n",
        "        \n",
        "  print('sims: ', sims[:3])\n",
        "  print('ranks: ', ranks)\n",
        "  counter = collections.Counter(ranks)\n",
        "  print(counter)\n",
        "  print()\n",
        "\n",
        "  # Testing the model with one random document\n",
        "  # Pick a random document from the test corpus and infer a vector from the model\n",
        "  doc_id = random.randint(0, len(test_corpus) - 1)\n",
        "  inferred_vector = model.infer_vector(test_corpus[doc_id])\n",
        "  sims = model.dv.most_similar([inferred_vector], topn=len(model.dv))\n",
        "  print('RANDOM TEST DOCUMENT ({}): «{}»\\n'.format(doc_id, ' '.join(test_corpus[doc_id])))\n",
        "\n",
        "  # Compare and print the most/second-most/third-most/median/least similar documents from the train corpus\n",
        "  print(u'SIMILAR/DISSIMILAR DOCS PER MODEL %s:\\n' % model)\n",
        "  for label, index in [('MOST', 0), ('SECOND-MOST', 1), ('THIRD-MOST', 2), ('MEDIAN', len(sims)//2), ('LEAST', len(sims) - 1)]:\n",
        "    print(u'%s %s: «%s»\\n' % (label, sims[index], ' '.join(train_corpus_tagged[sims[index][0]].words)))\n",
        "\n",
        "  # Save the model\n",
        "  filename = get_tmpfile(\"parsim_doc2vec_model\")\n",
        "  model.save(filename)\n",
        "\n",
        "  # Assessing the model\n",
        "  ranks_test = []\n",
        "  first_ranks_test = []\n",
        "  inferred_vectors_test = []\n",
        "  for doc_id in range(len(test_corpus)):\n",
        "    inferred_vector_test = model.infer_vector(test_corpus[doc_id])\n",
        "    sims_test = model.dv.most_similar([inferred_vector_test], topn=len(model.dv))\n",
        "    # sanity check (self-similarity)\n",
        "    rank_test = [docid for docid, sim in sims_test].index(doc_id)\n",
        "    ranks_test.append(rank_test)\n",
        "    first_ranks_test.append(sims_test[0][0])\n",
        "    inferred_vectors_test.append(inferred_vector_test)\n",
        "\n",
        "  print('first_ranks_test: ', first_ranks_test)\n",
        "\n",
        "  # Prepare vectors for cross validatiom\n",
        "  tags_array_train = np.array(first_ranks)\n",
        "  vectors_2Darray_train = np.array(inferred_vectors)\n",
        "  tags_array_test = np.array(first_ranks_test)\n",
        "  vectors_2Darray_test = np.array(inferred_vectors_test)\n",
        "  y_train, X_train = tags_array_train, vectors_2Darray_train\n",
        "  y_test, X_test = tags_array_test, vectors_2Darray_test\n",
        "\n",
        "  # Create Optuna study\n",
        "  study = optuna.create_study(direction=\"maximize\")\n",
        "  study.optimize(objective, n_trials=10)\n",
        "  \n",
        "  # Cross validation\n",
        "  clf = LogisticRegression(solver='liblinear', max_iter=300, class_weight='balanced', multi_class='auto')\n",
        "  k_fold = KFold(n_splits=10, shuffle=True, random_state=0)\n",
        "  score = cross_val_score(clf, X_train, y_train, cv=k_fold, n_jobs=-1, scoring='accuracy')\n",
        "  print('score: ', score)\n",
        "  print('Validation accuracy: {}'.format(round(np.mean(score)*100, 3)))\n",
        "  clf.fit(X_train, y_train)\n",
        "  y_pred = clf.predict(X_test)\n",
        "  print(\"Test accuracy: {:.3f}\".format(accuracy_score(y_test, y_pred)))\n",
        "\n",
        "main()"
      ],
      "execution_count": 3,
      "outputs": [
        {
          "output_type": "stream",
          "text": [
            "test_data_dir: /content/drive/MyDrive/Colab Notebooks/data/gouvfr/CorpusRandomTwitter\n",
            "train_corpus the beginning:  [['rt', 'americanidol', 'watch', 'as', 'ddlovato', 'gives', 'an', 'amazing', 'performance', 'of', 'her', 'single', 'stonecold', 'demionidol'], ['rt', 'dipti_varun', 'varun', 'dhawan', 'junaid', 'is', 'rookie', 'cop', 'and', 'heâ', 'kind', 'of', 'discovering', 'himself', 'as', 'the', 'movie', 'goes', 'on', 'varun_dvn', 'dishoom']]\n",
            "train_corpus length 1000\n",
            "train_corpus_tagged the beginning:  [TaggedDocument(words=['rt', 'americanidol', 'watch', 'as', 'ddlovato', 'gives', 'an', 'amazing', 'performance', 'of', 'her', 'single', 'stonecold', 'demionidol'], tags=[0]), TaggedDocument(words=['rt', 'dipti_varun', 'varun', 'dhawan', 'junaid', 'is', 'rookie', 'cop', 'and', 'heâ', 'kind', 'of', 'discovering', 'himself', 'as', 'the', 'movie', 'goes', 'on', 'varun_dvn', 'dishoom'], tags=[1])]\n",
            "test_corpus the beginning:  [['live', 'morning', 'news', 'weather', 'and', 'traffic', 'updates', 'fromâ', 'wdsu'], ['when', 'catch', 'fire', 'and', 'watch', 'over', 'you', 'like', 'the', 'sun']]\n",
            "test_corpus length 1000\n",
            "\n",
            "\n",
            "sims:  [(807, 0.9683969616889954), (677, 0.9672467708587646), (999, 0.9644769430160522)]\n",
            "ranks:  [0, 0, 0, 0, 0, 0, 0, 0, 0, 0, 0, 0, 0, 0, 0, 0, 0, 0, 14, 0, 0, 0, 1, 0, 0, 0, 0, 0, 0, 0, 0, 0, 0, 6, 0, 0, 0, 0, 0, 0, 0, 0, 1, 0, 0, 0, 0, 0, 0, 0, 0, 0, 0, 0, 0, 0, 0, 16, 0, 13, 2, 0, 0, 0, 0, 0, 1, 0, 0, 0, 0, 0, 0, 0, 0, 0, 0, 0, 0, 0, 0, 0, 0, 0, 0, 0, 0, 0, 4, 0, 0, 0, 0, 0, 0, 0, 0, 0, 0, 0, 0, 11, 0, 0, 0, 0, 0, 0, 0, 0, 0, 0, 0, 0, 0, 0, 0, 0, 0, 0, 0, 0, 0, 0, 0, 0, 0, 0, 0, 0, 1, 0, 0, 0, 0, 0, 5, 0, 0, 1, 0, 0, 0, 0, 0, 0, 0, 0, 0, 26, 0, 1, 0, 0, 0, 0, 0, 0, 0, 0, 0, 0, 0, 0, 0, 0, 2, 0, 0, 0, 0, 0, 0, 0, 0, 24, 0, 0, 0, 6, 0, 0, 0, 0, 0, 1, 0, 0, 0, 0, 0, 0, 0, 0, 0, 0, 0, 1, 9, 0, 0, 0, 0, 0, 0, 0, 0, 0, 0, 0, 0, 0, 0, 0, 0, 0, 1, 0, 0, 0, 0, 0, 0, 0, 19, 0, 0, 0, 0, 2, 0, 0, 0, 0, 0, 0, 0, 0, 0, 0, 0, 0, 0, 0, 0, 0, 0, 0, 0, 0, 0, 0, 0, 0, 1, 18, 0, 0, 0, 0, 0, 0, 0, 0, 10, 0, 0, 0, 0, 0, 0, 0, 0, 0, 0, 0, 0, 0, 0, 0, 0, 0, 0, 0, 0, 0, 0, 0, 0, 0, 0, 0, 0, 0, 0, 0, 0, 0, 0, 1, 0, 19, 0, 0, 0, 0, 1, 0, 0, 0, 12, 0, 0, 0, 0, 0, 0, 17, 0, 0, 0, 0, 0, 0, 0, 0, 0, 0, 0, 15, 0, 0, 0, 0, 0, 0, 0, 0, 26, 0, 0, 0, 0, 0, 0, 0, 8, 0, 0, 0, 1, 0, 0, 0, 0, 0, 18, 0, 0, 14, 0, 0, 2, 17, 0, 0, 0, 1, 0, 0, 0, 0, 0, 0, 0, 0, 30, 2, 0, 0, 0, 0, 0, 0, 1, 0, 0, 0, 0, 0, 0, 0, 0, 0, 0, 7, 0, 0, 0, 0, 0, 10, 0, 0, 0, 0, 0, 0, 21, 0, 31, 0, 0, 0, 0, 0, 0, 0, 0, 0, 0, 0, 0, 0, 0, 0, 0, 0, 0, 0, 0, 0, 13, 22, 1, 0, 0, 0, 0, 0, 22, 0, 0, 0, 2, 0, 0, 4, 0, 0, 0, 25, 0, 0, 0, 0, 0, 2, 0, 0, 0, 0, 0, 0, 0, 17, 0, 0, 0, 2, 0, 0, 0, 0, 3, 0, 0, 0, 33, 0, 0, 0, 0, 0, 26, 0, 0, 0, 0, 18, 0, 0, 0, 0, 1, 29, 0, 28, 4, 0, 0, 0, 0, 0, 0, 0, 0, 0, 0, 0, 0, 0, 0, 0, 0, 0, 0, 2, 0, 0, 0, 32, 0, 1, 0, 0, 0, 0, 20, 0, 1, 0, 0, 0, 0, 0, 3, 22, 0, 0, 0, 0, 0, 0, 1, 0, 0, 0, 0, 0, 0, 0, 0, 0, 0, 0, 0, 0, 0, 0, 5, 0, 0, 0, 0, 0, 0, 0, 0, 0, 0, 0, 12, 0, 0, 0, 0, 0, 0, 0, 0, 0, 0, 0, 4, 5, 0, 0, 0, 0, 0, 0, 0, 0, 0, 0, 0, 0, 0, 0, 0, 0, 0, 0, 0, 1, 0, 0, 0, 0, 0, 0, 0, 3, 0, 0, 0, 0, 0, 0, 0, 0, 0, 0, 0, 0, 0, 0, 0, 0, 0, 0, 0, 0, 0, 1, 0, 0, 0, 0, 1, 0, 0, 0, 0, 1, 0, 0, 2, 0, 0, 0, 0, 0, 0, 0, 0, 0, 0, 0, 0, 0, 0, 0, 1, 0, 0, 0, 18, 0, 0, 0, 0, 0, 0, 0, 0, 1, 0, 0, 0, 0, 0, 0, 0, 0, 0, 0, 0, 0, 0, 0, 0, 0, 0, 0, 0, 0, 0, 0, 0, 0, 1, 0, 0, 1, 15, 0, 0, 0, 0, 0, 0, 0, 0, 0, 0, 0, 0, 0, 0, 0, 0, 0, 0, 0, 0, 0, 0, 0, 0, 0, 0, 0, 0, 0, 0, 2, 0, 0, 0, 0, 0, 0, 0, 0, 19, 0, 0, 0, 0, 0, 0, 0, 0, 0, 0, 0, 0, 0, 0, 0, 0, 0, 0, 0, 0, 0, 0, 0, 0, 0, 0, 0, 0, 0, 0, 20, 0, 0, 0, 0, 0, 0, 0, 0, 0, 0, 0, 0, 0, 0, 0, 0, 0, 0, 1, 0, 0, 0, 1, 0, 0, 0, 0, 0, 0, 1, 0, 0, 0, 0, 0, 1, 0, 0, 0, 0, 0, 0, 0, 1, 0, 5, 0, 0, 0, 0, 0, 0, 0, 0, 0, 0, 0, 0, 0, 0, 1, 0, 0, 0, 0, 0, 0, 0, 1, 0, 0, 0, 0, 0, 0, 0, 0, 0, 0, 0, 24, 0, 0, 0, 0, 0, 0, 0, 1, 0, 0, 0, 0, 0, 0, 0, 0, 0, 0, 0, 0, 0, 0, 0, 0, 1, 0, 0, 0, 0, 0, 0, 0, 8, 0, 0, 0, 0, 0, 0, 0, 0, 0, 0, 0, 0, 0, 0, 0, 0, 0, 0, 0, 0, 0, 0, 0, 0, 0, 0, 0, 0, 0, 0, 0, 0, 0, 0, 0, 0, 0, 0, 0, 0, 0, 0, 0, 0, 0, 9, 0, 0, 0, 0, 0, 0, 0, 0, 0, 0, 0, 0, 0, 0, 0, 0, 0, 0, 0, 0, 0, 0, 0, 0, 0, 0, 0, 0, 0, 0, 0, 0, 0, 0, 0, 20, 0, 0, 0, 0, 0, 1, 0, 0, 0, 0, 0, 0, 0, 0, 0, 0, 0, 0, 0, 0, 0, 1, 0, 0, 0, 2]\n",
            "Counter({0: 890, 1: 39, 2: 12, 4: 4, 5: 4, 18: 4, 26: 3, 19: 3, 17: 3, 22: 3, 3: 3, 20: 3, 14: 2, 6: 2, 13: 2, 24: 2, 9: 2, 10: 2, 12: 2, 15: 2, 8: 2, 16: 1, 11: 1, 30: 1, 7: 1, 21: 1, 31: 1, 25: 1, 33: 1, 29: 1, 28: 1, 32: 1})\n",
            "\n",
            "RANDOM TEST DOCUMENT (28): «happy birthday to my number beautiful bae legit love you soooo much words cant describe youre so amazing and wanna marry bryersxo»\n",
            "\n",
            "SIMILAR/DISSIMILAR DOCS PER MODEL Doc2Vec(dbow+w,d80,n5,hs,w5,mc3,s0.001,t3):\n",
            "\n",
            "MOST (507, 0.5249277353286743): «rt mainenatics_mc the maine girls of mainenatics mandaluyong we love you so much mainedcm votemainefpp kca»\n",
            "\n",
            "SECOND-MOST (42, 0.5190092921257019): «rt mainenatics_mc the maine girls of mainenatics mandaluyong we love you so much mainedcm votemainefpp kca»\n",
            "\n",
            "THIRD-MOST (972, 0.4984629452228546): «rt shannel retweet this aldub nation for our queen of dubsmash maine mendoza mainedcm votemainefpp kca ung nunal tlaga wagas https»\n",
            "\n",
            "MEDIAN (778, 0.14688292145729065): «mededgene ketaminh thats what was looking for practical amp safety focused adaptation for use of great aw adjuncts»\n",
            "\n",
            "LEAST (345, -0.11824280023574829): «rt ilgrandefutador dear berniesanders you should see the speed of the ambasadasua door knob lickers it incredible»\n",
            "\n"
          ],
          "name": "stdout"
        },
        {
          "output_type": "stream",
          "text": [
            "\u001b[32m[I 2021-02-15 01:35:17,245]\u001b[0m A new study created in memory with name: no-name-d801b486-775b-4a6d-b6fb-64fe7ef3e7d3\u001b[0m\n"
          ],
          "name": "stderr"
        },
        {
          "output_type": "stream",
          "text": [
            "first_ranks_test:  [391, 763, 943, 492, 994, 955, 349, 714, 238, 131, 676, 886, 814, 656, 662, 493, 582, 325, 87, 69, 142, 893, 208, 412, 340, 82, 642, 580, 507, 235, 786, 800, 647, 42, 494, 7, 145, 496, 262, 733, 375, 893, 697, 914, 485, 355, 671, 252, 76, 82, 206, 250, 535, 665, 361, 68, 413, 546, 922, 789, 621, 567, 174, 939, 64, 545, 932, 240, 738, 251, 925, 764, 45, 270, 516, 692, 285, 76, 131, 546, 159, 404, 399, 336, 503, 82, 959, 955, 647, 709, 87, 733, 221, 258, 768, 924, 131, 481, 147, 778, 634, 194, 131, 17, 660, 103, 141, 906, 657, 514, 791, 206, 95, 163, 506, 921, 117, 994, 78, 769, 105, 886, 700, 197, 314, 340, 131, 131, 463, 764, 225, 788, 165, 271, 576, 352, 557, 683, 438, 660, 292, 451, 226, 500, 715, 633, 177, 334, 201, 225, 607, 131, 42, 977, 659, 776, 277, 453, 87, 287, 566, 682, 399, 182, 352, 780, 701, 297, 414, 397, 621, 261, 330, 364, 720, 278, 223, 360, 775, 967, 874, 507, 237, 591, 199, 36, 909, 682, 426, 571, 560, 335, 633, 208, 285, 170, 234, 604, 430, 369, 795, 922, 680, 986, 514, 601, 100, 206, 834, 500, 814, 976, 635, 3, 490, 398, 840, 918, 950, 83, 683, 147, 716, 352, 89, 250, 847, 888, 967, 611, 168, 859, 886, 91, 818, 615, 473, 670, 894, 678, 994, 485, 204, 418, 912, 492, 776, 886, 874, 893, 936, 950, 250, 187, 272, 459, 508, 42, 407, 131, 633, 687, 133, 120, 680, 486, 69, 145, 474, 551, 698, 508, 150, 322, 131, 893, 382, 687, 966, 745, 876, 444, 117, 718, 165, 640, 85, 758, 417, 269, 29, 769, 666, 435, 696, 240, 437, 607, 570, 687, 687, 900, 234, 104, 151, 805, 955, 105, 131, 459, 215, 445, 760, 851, 722, 305, 964, 895, 998, 864, 82, 36, 743, 933, 120, 422, 600, 982, 292, 208, 861, 374, 168, 769, 235, 186, 131, 11, 594, 970, 974, 131, 634, 99, 305, 877, 826, 233, 28, 961, 261, 42, 103, 437, 647, 636, 578, 167, 151, 548, 660, 568, 292, 515, 864, 932, 288, 728, 490, 682, 392, 95, 312, 568, 99, 964, 206, 986, 131, 1, 451, 710, 886, 58, 258, 771, 564, 659, 320, 557, 19, 191, 546, 898, 213, 659, 88, 188, 577, 291, 340, 274, 604, 909, 272, 671, 661, 945, 733, 708, 659, 991, 453, 298, 82, 992, 32, 836, 342, 986, 51, 42, 754, 159, 512, 503, 886, 95, 131, 611, 633, 328, 332, 407, 131, 529, 656, 841, 809, 171, 169, 827, 483, 215, 207, 342, 453, 103, 188, 603, 919, 51, 404, 776, 733, 196, 250, 660, 591, 230, 261, 809, 983, 5, 710, 516, 625, 42, 396, 131, 811, 837, 483, 895, 735, 459, 657, 127, 131, 551, 88, 657, 213, 608, 126, 450, 481, 744, 107, 63, 773, 202, 294, 251, 987, 647, 439, 131, 340, 174, 842, 77, 772, 282, 885, 166, 619, 111, 215, 488, 699, 245, 861, 659, 859, 292, 981, 814, 922, 117, 578, 808, 41, 759, 886, 269, 55, 836, 451, 618, 609, 920, 570, 492, 747, 905, 87, 818, 294, 360, 886, 635, 696, 256, 564, 110, 341, 493, 819, 864, 970, 94, 11, 597, 501, 578, 594, 182, 763, 292, 399, 732, 131, 769, 131, 719, 689, 931, 710, 886, 966, 641, 967, 87, 943, 647, 45, 851, 259, 131, 581, 761, 132, 441, 3, 573, 972, 443, 444, 28, 364, 692, 767, 167, 617, 880, 822, 87, 551, 496, 482, 326, 894, 258, 565, 608, 483, 265, 44, 886, 328, 609, 575, 89, 886, 423, 427, 794, 733, 131, 837, 656, 24, 789, 131, 139, 929, 143, 87, 125, 574, 9, 953, 49, 905, 214, 943, 707, 131, 723, 886, 160, 591, 648, 131, 740, 821, 378, 454, 551, 807, 206, 428, 662, 202, 79, 651, 917, 660, 508, 825, 734, 748, 978, 962, 327, 886, 28, 636, 907, 974, 967, 776, 977, 885, 369, 956, 761, 296, 292, 597, 607, 336, 502, 82, 79, 6, 258, 659, 787, 381, 75, 324, 396, 392, 289, 719, 864, 72, 4, 660, 656, 629, 600, 321, 429, 162, 131, 733, 598, 6, 191, 348, 739, 867, 339, 298, 220, 695, 131, 723, 532, 569, 785, 834, 539, 886, 648, 186, 23, 666, 318, 80, 110, 743, 47, 865, 336, 615, 747, 483, 232, 767, 787, 83, 598, 822, 428, 667, 225, 856, 375, 695, 131, 682, 950, 426, 814, 763, 632, 15, 645, 574, 787, 994, 28, 91, 271, 851, 167, 256, 491, 131, 483, 460, 386, 793, 865, 886, 886, 776, 288, 775, 390, 886, 885, 105, 727, 131, 97, 510, 695, 352, 191, 102, 42, 437, 787, 748, 549, 131, 328, 796, 293, 786, 131, 398, 131, 597, 386, 114, 587, 874, 992, 698, 786, 515, 776, 776, 678, 307, 642, 806, 235, 43, 470, 886, 972, 206, 52, 924, 678, 24, 328, 180, 488, 787, 379, 671, 285, 969, 837, 546, 269, 678, 360, 824, 576, 454, 131, 450, 127, 105, 248, 11, 307, 666, 617, 369, 816, 422, 218, 539, 223, 468, 222, 685, 886, 207, 992, 549, 748, 196, 161, 749, 776, 292, 213, 42, 928, 131, 546, 972, 766, 131, 483, 380, 716, 205, 861, 912, 942, 140, 574, 791, 148, 732, 964, 993, 886, 34, 336, 789, 939, 984, 685, 82, 912, 886, 479, 895, 30, 351, 74, 84, 396, 660, 370, 760, 976, 471, 546, 886, 246, 483, 356, 743, 664, 196, 250, 566, 906, 437, 141, 616, 562, 545, 300, 131, 244, 343, 221, 804, 266, 905, 890, 710, 612, 463, 496, 741, 335, 794, 2, 525, 639, 191, 972, 974, 206, 335, 81, 388, 323, 826, 249, 428, 322, 778, 131, 242, 865, 859, 794, 73, 816, 439, 723, 311, 250, 628, 967, 540, 806, 934, 810, 886, 1, 910, 58, 143, 130, 801, 766, 714, 695, 768, 900, 893, 404]\n"
          ],
          "name": "stdout"
        },
        {
          "output_type": "stream",
          "text": [
            "\u001b[32m[I 2021-02-15 01:35:58,952]\u001b[0m Trial 0 finished with value: 0.016 and parameters: {'classifier': 'LogReg', 'logreg_c': 2.7839893556013824e-06}. Best is trial 0 with value: 0.016.\u001b[0m\n",
            "\u001b[32m[I 2021-02-15 01:36:48,030]\u001b[0m Trial 1 finished with value: 0.12300000000000003 and parameters: {'classifier': 'LogReg', 'logreg_c': 423300.6158379168}. Best is trial 1 with value: 0.12300000000000003.\u001b[0m\n",
            "\u001b[32m[I 2021-02-15 01:37:35,163]\u001b[0m Trial 2 finished with value: 0.12600000000000003 and parameters: {'classifier': 'LogReg', 'logreg_c': 14864.304246725385}. Best is trial 2 with value: 0.12600000000000003.\u001b[0m\n",
            "\u001b[32m[I 2021-02-15 01:37:52,503]\u001b[0m Trial 3 finished with value: 0.10600000000000001 and parameters: {'classifier': 'LogReg', 'logreg_c': 0.23552826173360714}. Best is trial 2 with value: 0.12600000000000003.\u001b[0m\n",
            "\u001b[32m[I 2021-02-15 01:38:39,564]\u001b[0m Trial 4 finished with value: 0.12700000000000003 and parameters: {'classifier': 'LogReg', 'logreg_c': 23.18007155068059}. Best is trial 4 with value: 0.12700000000000003.\u001b[0m\n",
            "\u001b[32m[I 2021-02-15 01:39:26,936]\u001b[0m Trial 5 finished with value: 0.12600000000000003 and parameters: {'classifier': 'LogReg', 'logreg_c': 4596.863726264982}. Best is trial 4 with value: 0.12700000000000003.\u001b[0m\n",
            "\u001b[32m[I 2021-02-15 01:39:28,415]\u001b[0m Trial 6 finished with value: 0.052000000000000005 and parameters: {'classifier': 'LogReg', 'logreg_c': 2.959998062951258e-10}. Best is trial 4 with value: 0.12700000000000003.\u001b[0m\n",
            "\u001b[32m[I 2021-02-15 01:40:10,970]\u001b[0m Trial 7 finished with value: 0.019 and parameters: {'classifier': 'LogReg', 'logreg_c': 0.00020551172839114066}. Best is trial 4 with value: 0.12700000000000003.\u001b[0m\n",
            "\u001b[32m[I 2021-02-15 01:40:57,908]\u001b[0m Trial 8 finished with value: 0.12700000000000003 and parameters: {'classifier': 'LogReg', 'logreg_c': 5.367206585883489}. Best is trial 4 with value: 0.12700000000000003.\u001b[0m\n",
            "\u001b[32m[I 2021-02-15 01:41:16,953]\u001b[0m Trial 9 finished with value: 0.12300000000000003 and parameters: {'classifier': 'LogReg', 'logreg_c': 0.3417859158906137}. Best is trial 4 with value: 0.12700000000000003.\u001b[0m\n"
          ],
          "name": "stderr"
        },
        {
          "output_type": "stream",
          "text": [
            "score:  [0.15 0.18 0.13 0.13 0.13 0.08 0.1  0.18 0.1  0.09]\n",
            "Validation accuracy: 12.7\n",
            "Test accuracy: 0.550\n"
          ],
          "name": "stdout"
        }
      ]
    },
    {
      "cell_type": "code",
      "metadata": {
        "colab": {
          "base_uri": "https://localhost:8080/",
          "height": 329
        },
        "id": "-pxdizTp8alH",
        "outputId": "b541aa2d-070d-46eb-fd40-df525fe26687"
      },
      "source": [
        "pip install -U scikit-learn"
      ],
      "execution_count": 17,
      "outputs": [
        {
          "output_type": "stream",
          "text": [
            "Collecting scikit-learn\n",
            "\u001b[?25l  Downloading https://files.pythonhosted.org/packages/e2/4c/6111b9a325f29527d7f262e2ee8c730d354b47a728d955e186dacad57a0d/scikit_learn-0.24.1-cp36-cp36m-manylinux2010_x86_64.whl (22.2MB)\n",
            "\u001b[K     |████████████████████████████████| 22.2MB 1.4MB/s \n",
            "\u001b[?25hRequirement already satisfied, skipping upgrade: joblib>=0.11 in /usr/local/lib/python3.6/dist-packages (from scikit-learn) (1.0.0)\n",
            "Requirement already satisfied, skipping upgrade: scipy>=0.19.1 in /usr/local/lib/python3.6/dist-packages (from scikit-learn) (1.4.1)\n",
            "Requirement already satisfied, skipping upgrade: numpy>=1.13.3 in /usr/local/lib/python3.6/dist-packages (from scikit-learn) (1.19.5)\n",
            "Collecting threadpoolctl>=2.0.0\n",
            "  Downloading https://files.pythonhosted.org/packages/f7/12/ec3f2e203afa394a149911729357aa48affc59c20e2c1c8297a60f33f133/threadpoolctl-2.1.0-py3-none-any.whl\n",
            "Installing collected packages: threadpoolctl, scikit-learn\n",
            "  Found existing installation: scikit-learn 0.22.2.post1\n",
            "    Uninstalling scikit-learn-0.22.2.post1:\n",
            "      Successfully uninstalled scikit-learn-0.22.2.post1\n",
            "Successfully installed scikit-learn-0.24.1 threadpoolctl-2.1.0\n"
          ],
          "name": "stdout"
        },
        {
          "output_type": "display_data",
          "data": {
            "application/vnd.colab-display-data+json": {
              "pip_warning": {
                "packages": [
                  "sklearn"
                ]
              }
            }
          },
          "metadata": {
            "tags": []
          }
        }
      ]
    },
    {
      "cell_type": "code",
      "metadata": {
        "colab": {
          "base_uri": "https://localhost:8080/"
        },
        "id": "7Du-ffuzkzgN",
        "outputId": "c5f4d348-7934-4e6b-ae66-435187589952"
      },
      "source": [
        "pip install optuna"
      ],
      "execution_count": 1,
      "outputs": [
        {
          "output_type": "stream",
          "text": [
            "Collecting optuna\n",
            "\u001b[?25l  Downloading https://files.pythonhosted.org/packages/91/88/9c53460b97c61bce926dfe9dce51e4887c283416ff89ed30af0b73f44efa/optuna-2.5.0-py3-none-any.whl (287kB)\n",
            "\r\u001b[K     |█▏                              | 10kB 12.2MB/s eta 0:00:01\r\u001b[K     |██▎                             | 20kB 17.4MB/s eta 0:00:01\r\u001b[K     |███▍                            | 30kB 15.2MB/s eta 0:00:01\r\u001b[K     |████▋                           | 40kB 11.2MB/s eta 0:00:01\r\u001b[K     |█████▊                          | 51kB 11.1MB/s eta 0:00:01\r\u001b[K     |██████▉                         | 61kB 10.5MB/s eta 0:00:01\r\u001b[K     |████████                        | 71kB 11.2MB/s eta 0:00:01\r\u001b[K     |█████████▏                      | 81kB 10.5MB/s eta 0:00:01\r\u001b[K     |██████████▎                     | 92kB 11.3MB/s eta 0:00:01\r\u001b[K     |███████████▍                    | 102kB 11.1MB/s eta 0:00:01\r\u001b[K     |████████████▌                   | 112kB 11.1MB/s eta 0:00:01\r\u001b[K     |█████████████▊                  | 122kB 11.1MB/s eta 0:00:01\r\u001b[K     |██████████████▉                 | 133kB 11.1MB/s eta 0:00:01\r\u001b[K     |████████████████                | 143kB 11.1MB/s eta 0:00:01\r\u001b[K     |█████████████████               | 153kB 11.1MB/s eta 0:00:01\r\u001b[K     |██████████████████▎             | 163kB 11.1MB/s eta 0:00:01\r\u001b[K     |███████████████████▍            | 174kB 11.1MB/s eta 0:00:01\r\u001b[K     |████████████████████▌           | 184kB 11.1MB/s eta 0:00:01\r\u001b[K     |█████████████████████▋          | 194kB 11.1MB/s eta 0:00:01\r\u001b[K     |██████████████████████▉         | 204kB 11.1MB/s eta 0:00:01\r\u001b[K     |████████████████████████        | 215kB 11.1MB/s eta 0:00:01\r\u001b[K     |█████████████████████████       | 225kB 11.1MB/s eta 0:00:01\r\u001b[K     |██████████████████████████▎     | 235kB 11.1MB/s eta 0:00:01\r\u001b[K     |███████████████████████████▍    | 245kB 11.1MB/s eta 0:00:01\r\u001b[K     |████████████████████████████▌   | 256kB 11.1MB/s eta 0:00:01\r\u001b[K     |█████████████████████████████▋  | 266kB 11.1MB/s eta 0:00:01\r\u001b[K     |██████████████████████████████▉ | 276kB 11.1MB/s eta 0:00:01\r\u001b[K     |████████████████████████████████| 286kB 11.1MB/s eta 0:00:01\r\u001b[K     |████████████████████████████████| 296kB 11.1MB/s \n",
            "\u001b[?25hRequirement already satisfied: tqdm in /usr/local/lib/python3.6/dist-packages (from optuna) (4.41.1)\n",
            "Collecting alembic\n",
            "\u001b[?25l  Downloading https://files.pythonhosted.org/packages/a9/53/daab5c96e22e9ed1c9f8ca4e3256e72213ade42d519b6254c32e59610967/alembic-1.5.4.tar.gz (1.1MB)\n",
            "\u001b[K     |████████████████████████████████| 1.1MB 22.0MB/s \n",
            "\u001b[?25hRequirement already satisfied: joblib in /usr/local/lib/python3.6/dist-packages (from optuna) (1.0.0)\n",
            "Requirement already satisfied: numpy in /usr/local/lib/python3.6/dist-packages (from optuna) (1.19.5)\n",
            "Requirement already satisfied: sqlalchemy>=1.1.0 in /usr/local/lib/python3.6/dist-packages (from optuna) (1.3.23)\n",
            "Collecting cmaes>=0.6.0\n",
            "  Downloading https://files.pythonhosted.org/packages/21/a2/21775c7343e7dd345e5e12cc7b8432e3d3edae2043b01bc2ecf38c432ef7/cmaes-0.8.1-py3-none-any.whl\n",
            "Requirement already satisfied: packaging>=20.0 in /usr/local/lib/python3.6/dist-packages (from optuna) (20.9)\n",
            "Collecting colorlog\n",
            "  Downloading https://files.pythonhosted.org/packages/5e/39/0230290df0519d528d8d0ffdfd900150ed24e0076d13b1f19e279444aab1/colorlog-4.7.2-py2.py3-none-any.whl\n",
            "Requirement already satisfied: scipy!=1.4.0 in /usr/local/lib/python3.6/dist-packages (from optuna) (1.4.1)\n",
            "Collecting cliff\n",
            "\u001b[?25l  Downloading https://files.pythonhosted.org/packages/0f/8f/3c74fa4b6c3db1051b495385f5302fc5d5aa0f180d40ce3e9a13c82f8c82/cliff-3.6.0-py3-none-any.whl (79kB)\n",
            "\u001b[K     |████████████████████████████████| 81kB 5.0MB/s \n",
            "\u001b[?25hCollecting Mako\n",
            "\u001b[?25l  Downloading https://files.pythonhosted.org/packages/5c/db/2d2d88b924aa4674a080aae83b59ea19d593250bfe5ed789947c21736785/Mako-1.1.4.tar.gz (479kB)\n",
            "\u001b[K     |████████████████████████████████| 481kB 33.3MB/s \n",
            "\u001b[?25hCollecting python-editor>=0.3\n",
            "  Downloading https://files.pythonhosted.org/packages/c6/d3/201fc3abe391bbae6606e6f1d598c15d367033332bd54352b12f35513717/python_editor-1.0.4-py3-none-any.whl\n",
            "Requirement already satisfied: python-dateutil in /usr/local/lib/python3.6/dist-packages (from alembic->optuna) (2.8.1)\n",
            "Requirement already satisfied: pyparsing>=2.0.2 in /usr/local/lib/python3.6/dist-packages (from packaging>=20.0->optuna) (2.4.7)\n",
            "Requirement already satisfied: PyYAML>=3.12 in /usr/local/lib/python3.6/dist-packages (from cliff->optuna) (3.13)\n",
            "Collecting cmd2!=0.8.3,>=0.8.0\n",
            "\u001b[?25l  Downloading https://files.pythonhosted.org/packages/15/8b/15061b32332bb35ea2a2f6263d0f616779d576e82739ec8e7fcf3c94abf5/cmd2-1.5.0-py3-none-any.whl (133kB)\n",
            "\u001b[K     |████████████████████████████████| 143kB 38.4MB/s \n",
            "\u001b[?25hCollecting PrettyTable<0.8,>=0.7.2\n",
            "  Downloading https://files.pythonhosted.org/packages/ef/30/4b0746848746ed5941f052479e7c23d2b56d174b82f4fd34a25e389831f5/prettytable-0.7.2.tar.bz2\n",
            "Collecting pbr!=2.1.0,>=2.0.0\n",
            "\u001b[?25l  Downloading https://files.pythonhosted.org/packages/fb/48/69046506f6ac61c1eaa9a0d42d22d54673b69e176d30ca98e3f61513e980/pbr-5.5.1-py2.py3-none-any.whl (106kB)\n",
            "\u001b[K     |████████████████████████████████| 112kB 56.0MB/s \n",
            "\u001b[?25hCollecting stevedore>=2.0.1\n",
            "\u001b[?25l  Downloading https://files.pythonhosted.org/packages/d4/49/b602307aeac3df3384ff1fcd05da9c0376c622a6c48bb5325f28ab165b57/stevedore-3.3.0-py3-none-any.whl (49kB)\n",
            "\u001b[K     |████████████████████████████████| 51kB 3.4MB/s \n",
            "\u001b[?25hRequirement already satisfied: MarkupSafe>=0.9.2 in /usr/local/lib/python3.6/dist-packages (from Mako->alembic->optuna) (1.1.1)\n",
            "Requirement already satisfied: six>=1.5 in /usr/local/lib/python3.6/dist-packages (from python-dateutil->alembic->optuna) (1.15.0)\n",
            "Requirement already satisfied: importlib-metadata>=1.6.0; python_version < \"3.8\" in /usr/local/lib/python3.6/dist-packages (from cmd2!=0.8.3,>=0.8.0->cliff->optuna) (3.4.0)\n",
            "Requirement already satisfied: attrs>=16.3.0 in /usr/local/lib/python3.6/dist-packages (from cmd2!=0.8.3,>=0.8.0->cliff->optuna) (20.3.0)\n",
            "Collecting pyperclip>=1.6\n",
            "  Downloading https://files.pythonhosted.org/packages/6f/4c/0b1d507ad7e8bc31d690d04b4f475e74c2002d060f7994ce8c09612df707/pyperclip-1.8.1.tar.gz\n",
            "Collecting colorama>=0.3.7\n",
            "  Downloading https://files.pythonhosted.org/packages/44/98/5b86278fbbf250d239ae0ecb724f8572af1c91f4a11edf4d36a206189440/colorama-0.4.4-py2.py3-none-any.whl\n",
            "Requirement already satisfied: wcwidth>=0.1.7 in /usr/local/lib/python3.6/dist-packages (from cmd2!=0.8.3,>=0.8.0->cliff->optuna) (0.2.5)\n",
            "Requirement already satisfied: zipp>=0.5 in /usr/local/lib/python3.6/dist-packages (from importlib-metadata>=1.6.0; python_version < \"3.8\"->cmd2!=0.8.3,>=0.8.0->cliff->optuna) (3.4.0)\n",
            "Requirement already satisfied: typing-extensions>=3.6.4; python_version < \"3.8\" in /usr/local/lib/python3.6/dist-packages (from importlib-metadata>=1.6.0; python_version < \"3.8\"->cmd2!=0.8.3,>=0.8.0->cliff->optuna) (3.7.4.3)\n",
            "Building wheels for collected packages: alembic, Mako, PrettyTable, pyperclip\n",
            "  Building wheel for alembic (setup.py) ... \u001b[?25l\u001b[?25hdone\n",
            "  Created wheel for alembic: filename=alembic-1.5.4-py2.py3-none-any.whl size=156314 sha256=309316069b483ad916f9ec051c88ab2a31c6423d2682b9e1cb724c692bc6f9f5\n",
            "  Stored in directory: /root/.cache/pip/wheels/fd/2d/ec/5a1b1e2363ed68392d292d215facf588d5448198edd8078bc1\n",
            "  Building wheel for Mako (setup.py) ... \u001b[?25l\u001b[?25hdone\n",
            "  Created wheel for Mako: filename=Mako-1.1.4-py2.py3-none-any.whl size=75675 sha256=e14d0f5f0564f190f342d775114ec7b7a73b093e83d86dcfecf2ba478cf930cd\n",
            "  Stored in directory: /root/.cache/pip/wheels/ad/10/d3/aeb26e20d19045e2a68e5d3cbb57432e11b5d9c92c99f98d47\n",
            "  Building wheel for PrettyTable (setup.py) ... \u001b[?25l\u001b[?25hdone\n",
            "  Created wheel for PrettyTable: filename=prettytable-0.7.2-cp36-none-any.whl size=13702 sha256=04ebf9e35478cabd18af2b508a4109cf413b86a0c6c9d57bc7c339748f933511\n",
            "  Stored in directory: /root/.cache/pip/wheels/80/34/1c/3967380d9676d162cb59513bd9dc862d0584e045a162095606\n",
            "  Building wheel for pyperclip (setup.py) ... \u001b[?25l\u001b[?25hdone\n",
            "  Created wheel for pyperclip: filename=pyperclip-1.8.1-cp36-none-any.whl size=11120 sha256=b6934b1e356081ceee453b80e30a052e6cddfdb73e80288a502db0050d1a46f3\n",
            "  Stored in directory: /root/.cache/pip/wheels/44/10/3a/c830e9bb3db2c93274ea1f213a41fabde0d8cf3794251fad0c\n",
            "Successfully built alembic Mako PrettyTable pyperclip\n",
            "Installing collected packages: Mako, python-editor, alembic, cmaes, colorlog, pyperclip, colorama, cmd2, PrettyTable, pbr, stevedore, cliff, optuna\n",
            "  Found existing installation: prettytable 2.0.0\n",
            "    Uninstalling prettytable-2.0.0:\n",
            "      Successfully uninstalled prettytable-2.0.0\n",
            "Successfully installed Mako-1.1.4 PrettyTable-0.7.2 alembic-1.5.4 cliff-3.6.0 cmaes-0.8.1 cmd2-1.5.0 colorama-0.4.4 colorlog-4.7.2 optuna-2.5.0 pbr-5.5.1 pyperclip-1.8.1 python-editor-1.0.4 stevedore-3.3.0\n"
          ],
          "name": "stdout"
        }
      ]
    },
    {
      "cell_type": "code",
      "metadata": {
        "colab": {
          "base_uri": "https://localhost:8080/"
        },
        "id": "8rqtTNF2NPFw",
        "outputId": "33dfb139-fa96-49f4-934d-04d0209a2f2a"
      },
      "source": [
        "from sklearn import datasets, linear_model\r\n",
        "from sklearn.model_selection import cross_val_score\r\n",
        "diabetes = datasets.load_diabetes()\r\n",
        "X = diabetes.data[:150]\r\n",
        "y = diabetes.target[:150]\r\n",
        "print('X: ', X)\r\n",
        "print('y: ', y)\r\n",
        "y = diabetes.target[:150]\r\n",
        "lasso = linear_model.Lasso()\r\n",
        "print(cross_val_score(lasso, X, y, cv=3))\r\n"
      ],
      "execution_count": null,
      "outputs": [
        {
          "output_type": "stream",
          "text": [
            "X:  [[ 0.03807591  0.05068012  0.06169621 ... -0.00259226  0.01990842\n",
            "  -0.01764613]\n",
            " [-0.00188202 -0.04464164 -0.05147406 ... -0.03949338 -0.06832974\n",
            "  -0.09220405]\n",
            " [ 0.08529891  0.05068012  0.04445121 ... -0.00259226  0.00286377\n",
            "  -0.02593034]\n",
            " ...\n",
            " [-0.05637009 -0.04464164  0.09295276 ...  0.02545259  0.02605609\n",
            "   0.04034337]\n",
            " [-0.06000263  0.05068012  0.01535029 ... -0.00259226 -0.03075121\n",
            "  -0.0010777 ]\n",
            " [-0.04910502  0.05068012 -0.00512814 ...  0.07120998  0.06123791\n",
            "  -0.03835666]]\n",
            "y:  [151.  75. 141. 206. 135.  97. 138.  63. 110. 310. 101.  69. 179. 185.\n",
            " 118. 171. 166. 144.  97. 168.  68.  49.  68. 245. 184. 202. 137.  85.\n",
            " 131. 283. 129.  59. 341.  87.  65. 102. 265. 276. 252.  90. 100.  55.\n",
            "  61.  92. 259.  53. 190. 142.  75. 142. 155. 225.  59. 104. 182. 128.\n",
            "  52.  37. 170. 170.  61. 144.  52. 128.  71. 163. 150.  97. 160. 178.\n",
            "  48. 270. 202. 111.  85.  42. 170. 200. 252. 113. 143.  51.  52. 210.\n",
            "  65. 141.  55. 134.  42. 111.  98. 164.  48.  96.  90. 162. 150. 279.\n",
            "  92.  83. 128. 102. 302. 198.  95.  53. 134. 144. 232.  81. 104.  59.\n",
            " 246. 297. 258. 229. 275. 281. 179. 200. 200. 173. 180.  84. 121. 161.\n",
            "  99. 109. 115. 268. 274. 158. 107.  83. 103. 272.  85. 280. 336. 281.\n",
            " 118. 317. 235.  60. 174. 259. 178. 128.  96. 126.]\n",
            "[0.33150734 0.08022311 0.03531764]\n"
          ],
          "name": "stdout"
        }
      ]
    },
    {
      "cell_type": "code",
      "metadata": {
        "colab": {
          "base_uri": "https://localhost:8080/",
          "height": 312
        },
        "id": "PNryXVT-bI4O",
        "outputId": "21ef062d-70f0-4ed8-f85b-dda763bed9c5"
      },
      "source": [
        "pip install --pre --upgrade gensim"
      ],
      "execution_count": 3,
      "outputs": [
        {
          "output_type": "stream",
          "text": [
            "Collecting gensim\n",
            "\u001b[?25l  Downloading https://files.pythonhosted.org/packages/16/4a/c529159de5a417eb2f574941ccd9f937a47cafffaf1a3e485c6e2a8a4153/gensim-4.0.0b0-cp36-cp36m-manylinux1_x86_64.whl (24.0MB)\n",
            "\u001b[K     |████████████████████████████████| 24.0MB 1.8MB/s \n",
            "\u001b[?25hRequirement already satisfied, skipping upgrade: smart-open>=1.8.1 in /usr/local/lib/python3.6/dist-packages (from gensim) (4.1.2)\n",
            "Requirement already satisfied, skipping upgrade: dataclasses; python_version < \"3.7\" in /usr/local/lib/python3.6/dist-packages (from gensim) (0.8)\n",
            "Requirement already satisfied, skipping upgrade: scipy>=0.18.1 in /usr/local/lib/python3.6/dist-packages (from gensim) (1.4.1)\n",
            "Requirement already satisfied, skipping upgrade: numpy>=1.11.3 in /usr/local/lib/python3.6/dist-packages (from gensim) (1.19.5)\n",
            "Installing collected packages: gensim\n",
            "  Found existing installation: gensim 3.6.0\n",
            "    Uninstalling gensim-3.6.0:\n",
            "      Successfully uninstalled gensim-3.6.0\n",
            "Successfully installed gensim-4.0.0b0\n"
          ],
          "name": "stdout"
        },
        {
          "output_type": "display_data",
          "data": {
            "application/vnd.colab-display-data+json": {
              "pip_warning": {
                "packages": [
                  "gensim"
                ]
              }
            }
          },
          "metadata": {
            "tags": []
          }
        }
      ]
    },
    {
      "cell_type": "code",
      "metadata": {
        "colab": {
          "base_uri": "https://localhost:8080/"
        },
        "id": "BIGBM4QwtaAn",
        "outputId": "15b86f6e-b122-45a3-ab1c-d0c64f2fb8ce"
      },
      "source": [
        "\r\n",
        "from google.colab import drive\r\n",
        "drive.mount('/content/drive')"
      ],
      "execution_count": null,
      "outputs": [
        {
          "output_type": "stream",
          "text": [
            "Mounted at /content/drive\n"
          ],
          "name": "stdout"
        }
      ]
    }
  ]
}